{
 "cells": [
  {
   "cell_type": "code",
   "execution_count": 1,
   "metadata": {},
   "outputs": [
    {
     "name": "stderr",
     "output_type": "stream",
     "text": [
      "/Users/yitinglin/Projects/fishing-classification/env/lib/python3.7/site-packages/sklearn/base.py:197: FutureWarning: From version 0.24, get_params will raise an AttributeError if a parameter cannot be retrieved as an instance attribute. Previously it would return None.\n",
      "  FutureWarning)\n"
     ]
    }
   ],
   "source": [
    "import matplotlib.image as mpimg\n",
    "import matplotlib.pyplot as plt\n",
    "import numpy as np\n",
    "import pandas as pd\n",
    "from sklearn.ensemble import RandomForestClassifier\n",
    "from sklearn.metrics import f1_score, make_scorer\n",
    "from sklearn.model_selection import train_test_split, cross_validate\n",
    "from sklearn.preprocessing import StandardScaler\n",
    "\n",
    "from seglearn.base import TS_Data\n",
    "from seglearn.datasets import load_watch\n",
    "from seglearn.pipe import Pype\n",
    "from seglearn.transform import FeatureRep, SegmentX\n",
    "\n",
    "# seed RNGESUS\n",
    "np.random.seed(123124)\n",
    "\n",
    "# load the data\n",
    "data = load_watch()\n",
    "X = data['X']\n",
    "y = data['y']\n",
    "\n",
    "# create a feature representation pipeline\n",
    "clf = Pype([('segment', SegmentX()),\n",
    "            ('features', FeatureRep()),\n",
    "            ('scaler', StandardScaler()),\n",
    "            ('rf', RandomForestClassifier(n_estimators=20))])\n",
    "\n",
    "# split the data\n",
    "X_train, X_test, y_train, y_test = train_test_split(X, y, test_size=0.25)\n",
    "\n",
    "clf.fit(X_train, y_train)\n",
    "score = clf.score(X_test, y_test)"
   ]
  },
  {
   "cell_type": "code",
   "execution_count": 6,
   "metadata": {},
   "outputs": [
    {
     "data": {
      "text/plain": [
       "(140, 140)"
      ]
     },
     "execution_count": 6,
     "metadata": {},
     "output_type": "execute_result"
    }
   ],
   "source": [
    "len(X), len(y)"
   ]
  },
  {
   "cell_type": "code",
   "execution_count": 9,
   "metadata": {},
   "outputs": [
    {
     "data": {
      "text/plain": [
       "(array([2, 1, 1, ..., 1, 1, 1]), (35,))"
      ]
     },
     "execution_count": 9,
     "metadata": {},
     "output_type": "execute_result"
    }
   ],
   "source": [
    "clf.predict(X_test), y_test.shape"
   ]
  },
  {
   "cell_type": "code",
   "execution_count": 13,
   "metadata": {},
   "outputs": [
    {
     "data": {
      "text/plain": [
       "['mean_0',\n",
       " 'mean_1',\n",
       " 'mean_2',\n",
       " 'mean_3',\n",
       " 'mean_4',\n",
       " 'mean_5',\n",
       " 'median_0',\n",
       " 'median_1',\n",
       " 'median_2',\n",
       " 'median_3',\n",
       " 'median_4',\n",
       " 'median_5',\n",
       " 'abs_energy_0',\n",
       " 'abs_energy_1',\n",
       " 'abs_energy_2',\n",
       " 'abs_energy_3',\n",
       " 'abs_energy_4',\n",
       " 'abs_energy_5',\n",
       " 'std_0',\n",
       " 'std_1',\n",
       " 'std_2',\n",
       " 'std_3',\n",
       " 'std_4',\n",
       " 'std_5',\n",
       " 'var_0',\n",
       " 'var_1',\n",
       " 'var_2',\n",
       " 'var_3',\n",
       " 'var_4',\n",
       " 'var_5',\n",
       " 'min_0',\n",
       " 'min_1',\n",
       " 'min_2',\n",
       " 'min_3',\n",
       " 'min_4',\n",
       " 'min_5',\n",
       " 'max_0',\n",
       " 'max_1',\n",
       " 'max_2',\n",
       " 'max_3',\n",
       " 'max_4',\n",
       " 'max_5',\n",
       " 'skew_0',\n",
       " 'skew_1',\n",
       " 'skew_2',\n",
       " 'skew_3',\n",
       " 'skew_4',\n",
       " 'skew_5',\n",
       " 'kurt_0',\n",
       " 'kurt_1',\n",
       " 'kurt_2',\n",
       " 'kurt_3',\n",
       " 'kurt_4',\n",
       " 'kurt_5',\n",
       " 'mse_0',\n",
       " 'mse_1',\n",
       " 'mse_2',\n",
       " 'mse_3',\n",
       " 'mse_4',\n",
       " 'mse_5',\n",
       " 'mnx_0',\n",
       " 'mnx_1',\n",
       " 'mnx_2',\n",
       " 'mnx_3',\n",
       " 'mnx_4',\n",
       " 'mnx_5']"
      ]
     },
     "execution_count": 13,
     "metadata": {},
     "output_type": "execute_result"
    }
   ],
   "source": [
    "clf.steps[1][1].f_labels"
   ]
  },
  {
   "cell_type": "code",
   "execution_count": null,
   "metadata": {},
   "outputs": [],
   "source": []
  }
 ],
 "metadata": {
  "kernelspec": {
   "display_name": "Python 3",
   "language": "python",
   "name": "python3"
  },
  "language_info": {
   "codemirror_mode": {
    "name": "ipython",
    "version": 3
   },
   "file_extension": ".py",
   "mimetype": "text/x-python",
   "name": "python",
   "nbconvert_exporter": "python",
   "pygments_lexer": "ipython3",
   "version": "3.7.5"
  }
 },
 "nbformat": 4,
 "nbformat_minor": 4
}
