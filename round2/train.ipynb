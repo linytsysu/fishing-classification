{
 "cells": [
  {
   "cell_type": "code",
   "execution_count": 1,
   "metadata": {},
   "outputs": [],
   "source": [
    "import os\n",
    "import pandas as pd\n",
    "import numpy as np\n",
    "import lightgbm as lgb\n",
    "from sklearn import preprocessing\n",
    "from sklearn.model_selection import KFold\n",
    "from sklearn.metrics import f1_score\n",
    "from sklearn.ensemble import ExtraTreesClassifier\n",
    "from sklearn.feature_selection import SelectPercentile, f_classif\n",
    "from sklearn.linear_model import SGDClassifier\n",
    "from sklearn.model_selection import train_test_split\n",
    "from sklearn.pipeline import make_pipeline, make_union\n",
    "from tpot.builtins import StackingEstimator\n",
    "from tpot.export_utils import set_param_recursive\n",
    "from sklearn.ensemble import ExtraTreesClassifier\n",
    "from sklearn.feature_selection import SelectPercentile, VarianceThreshold, f_classif\n",
    "from sklearn.linear_model import SGDClassifier\n",
    "from sklearn.model_selection import train_test_split\n",
    "from sklearn.pipeline import make_pipeline, make_union\n",
    "from tpot.builtins import StackingEstimator\n",
    "from tpot.export_utils import set_param_recursive\n",
    "from sklearn.preprocessing import FunctionTransformer\n",
    "from copy import copy\n",
    "from sklearn.feature_selection import RFE, VarianceThreshold\n",
    "from sklearn.ensemble import ExtraTreesClassifier, GradientBoostingClassifier\n",
    "from geopy.distance import geodesic\n",
    "import matplotlib.pyplot as plt\n",
    "from scipy.stats import skew, kurtosis"
   ]
  },
  {
   "cell_type": "code",
   "execution_count": 2,
   "metadata": {},
   "outputs": [],
   "source": [
    "train_path = '../data/hy_round2_train_20200225'"
   ]
  },
  {
   "cell_type": "code",
   "execution_count": 3,
   "metadata": {},
   "outputs": [],
   "source": [
    "def feature_generate_manually():\n",
    "    train_df_list = []\n",
    "    for file_name in os.listdir(train_path):\n",
    "        df = pd.read_csv(os.path.join(train_path, file_name))\n",
    "        train_df_list.append(df)\n",
    "\n",
    "    train_df = pd.concat(train_df_list)\n",
    "\n",
    "    train_df['time'] = pd.to_datetime(train_df['time'], format='%m%d %H:%M:%S')\n",
    "\n",
    "    all_df = pd.concat([train_df], sort=False)\n",
    "\n",
    "    all_df['x'] = all_df['lat'].values\n",
    "    all_df['y'] = all_df['lon'].values\n",
    "\n",
    "    new_df = all_df.groupby('渔船ID').agg(x_min=('x', 'min'), x_max=('x', 'max'), x_mean=('x', 'mean'), x_std=('x', 'std'), x_skew=('x', 'skew'), x_sum=('x', 'sum'),\n",
    "                y_min=('y', 'min'), y_max=('y', 'max'), y_mean=('y', 'mean'), y_std=('y', 'std'), y_skew=('y', 'skew'), y_sum=('y', 'sum'),\n",
    "                v_min=('速度', 'min'), v_max=('速度', 'max'), v_mean=('速度', 'mean'), v_std=('速度', 'std'), v_skew=('速度', 'skew'), v_sum=('速度', 'sum'),\n",
    "                d_min=('方向', 'min'), d_max=('方向', 'max'), d_mean=('方向', 'mean'), d_std=('方向', 'std'), d_skew=('方向', 'skew'), d_sum=('方向', 'sum'))\n",
    "    new_df['x_max-x_min'] = new_df['x_max'] - new_df['x_min']\n",
    "    new_df['y_max-y_min'] = new_df['y_max'] - new_df['y_min']\n",
    "    new_df['x_max-y_min'] = new_df['x_max'] - new_df['y_min']\n",
    "    new_df['y_max-x_min'] = new_df['y_max'] - new_df['x_min']\n",
    "\n",
    "    new_df['slope'] = new_df['y_max-y_min'] / np.where(new_df['x_max-x_min']==0, 0.001, new_df['x_max-x_min'])\n",
    "    new_df['area'] = new_df['x_max-x_min'] * new_df['y_max-y_min']\n",
    "\n",
    "    xy_cov = []\n",
    "    unique_x = []\n",
    "    unique_x_rate = []\n",
    "    for ship_id, group in all_df.groupby('渔船ID'):\n",
    "        x = group['x'].values\n",
    "        y = group['y'].values\n",
    "        xy_cov.append(group['x'].cov(group['y']))\n",
    "        unique_x.append(np.unique(x).shape[0])\n",
    "        unique_x_rate.append(np.unique(y).shape[0] / x.shape[0])\n",
    "\n",
    "    new_df['xy_cov'] = xy_cov\n",
    "    new_df['unique_x'] = unique_x\n",
    "    new_df['unique_x_rate'] = unique_x_rate\n",
    "\n",
    "    new_df['type'] = all_df.groupby('渔船ID').agg(type=('type', 'first'))['type'].values\n",
    "\n",
    "    X_train = new_df.drop(columns=['type']).iloc[:len(train_df_list)]\n",
    "    y_train = new_df.iloc[:len(train_df_list)]['type']\n",
    "\n",
    "    return X_train, y_train\n",
    "\n",
    "\n",
    "def feature_generate_tsfresh():\n",
    "    train_df = pd.read_csv('./feature/train.csv', index_col=0)\n",
    "    X_train = train_df.drop(columns=['type'])\n",
    "    y_train = train_df['type']\n",
    "\n",
    "    base_model = lgb.LGBMClassifier(n_estimators=1000, subsample=0.8)\n",
    "    base_model.fit(X_train.values, y_train)\n",
    "\n",
    "    selected_columns = X_train.columns[np.argsort(base_model.feature_importances_)[::-1][:50]]\n",
    "    print(selected_columns)\n",
    "\n",
    "    X_train = X_train[selected_columns]\n",
    "\n",
    "    X_train_manully, _ = feature_generate_manually()\n",
    "\n",
    "    print(X_train.shape, X_train_manully.shape)\n",
    "\n",
    "    X_train['x_max-x_min'] = X_train_manully['x_max-x_min'].values\n",
    "    X_train['x_max-y_min'] = X_train_manully['x_max-y_min'].values\n",
    "    X_train['y_max-x_min'] = X_train_manully['y_max-x_min'].values\n",
    "    X_train['y_max-y_min'] = X_train_manully['y_max-y_min'].values\n",
    "\n",
    "    X_train['slope'] = X_train_manully['slope'].values\n",
    "    X_train['area'] = X_train_manully['area'].values\n",
    "\n",
    "    return X_train, y_train.values"
   ]
  },
  {
   "cell_type": "code",
   "execution_count": 4,
   "metadata": {},
   "outputs": [],
   "source": [
    "def get_model():\n",
    "    exported_pipeline = make_pipeline(\n",
    "        SelectPercentile(score_func=f_classif, percentile=48),\n",
    "        StackingEstimator(estimator=SGDClassifier(alpha=0.01, eta0=0.01, fit_intercept=False, l1_ratio=0.25, learning_rate=\"invscaling\", loss=\"modified_huber\", penalty=\"elasticnet\", power_t=10.0)),\n",
    "        ExtraTreesClassifier(bootstrap=False, criterion=\"entropy\", max_features=0.6000000000000001, min_samples_leaf=1, min_samples_split=3, n_estimators=100)\n",
    "    )\n",
    "\n",
    "    set_param_recursive(exported_pipeline.steps, 'random_state', 42)\n",
    "    return exported_pipeline\n",
    "\n",
    "\n",
    "def get_model_v2():\n",
    "    exported_pipeline = make_pipeline(\n",
    "        make_union(\n",
    "            make_pipeline(\n",
    "                make_union(\n",
    "                    FunctionTransformer(copy),\n",
    "                    FunctionTransformer(copy)\n",
    "                ),\n",
    "                SelectPercentile(score_func=f_classif, percentile=18)\n",
    "            ),\n",
    "            FunctionTransformer(copy)\n",
    "        ),\n",
    "        StackingEstimator(estimator=SGDClassifier(alpha=0.01, eta0=0.1, fit_intercept=False, l1_ratio=1.0, learning_rate=\"constant\", loss=\"hinge\", penalty=\"elasticnet\", power_t=0.1)),\n",
    "        VarianceThreshold(threshold=0.05),\n",
    "        ExtraTreesClassifier(bootstrap=False, criterion=\"entropy\", max_features=0.55, min_samples_leaf=1, min_samples_split=4, n_estimators=100)\n",
    "    )\n",
    "    set_param_recursive(exported_pipeline.steps, 'random_state', 42)\n",
    "    return exported_pipeline\n",
    "\n",
    "\n",
    "from sklearn.ensemble import ExtraTreesClassifier, GradientBoostingClassifier\n",
    "from sklearn.feature_selection import RFE\n",
    "from sklearn.model_selection import train_test_split\n",
    "from sklearn.pipeline import make_pipeline, make_union\n",
    "from sklearn.preprocessing import RobustScaler, StandardScaler\n",
    "from tpot.builtins import StackingEstimator\n",
    "from tpot.export_utils import set_param_recursive\n",
    "from sklearn.preprocessing import FunctionTransformer\n",
    "from copy import copy\n",
    "\n",
    "def get_model_v3():\n",
    "    exported_pipeline = make_pipeline(\n",
    "        make_union(\n",
    "            FunctionTransformer(copy),\n",
    "            FunctionTransformer(copy)\n",
    "        ),\n",
    "        RobustScaler(),\n",
    "        RFE(estimator=ExtraTreesClassifier(criterion=\"entropy\", max_features=0.25, n_estimators=100), step=0.6500000000000001),\n",
    "        StandardScaler(),\n",
    "        GradientBoostingClassifier(learning_rate=0.5, max_depth=9, max_features=0.05, min_samples_leaf=18, min_samples_split=3, n_estimators=100, subsample=0.9000000000000001)\n",
    "    )\n",
    "    # Fix random state for all the steps in exported pipeline\n",
    "    set_param_recursive(exported_pipeline.steps, 'random_state', 42)\n",
    "    return exported_pipeline\n",
    "\n",
    "\n",
    "from sklearn.ensemble import ExtraTreesClassifier, GradientBoostingClassifier\n",
    "from sklearn.feature_selection import RFE, VarianceThreshold\n",
    "from sklearn.model_selection import train_test_split\n",
    "from sklearn.pipeline import make_pipeline, make_union\n",
    "from tpot.builtins import StackingEstimator, ZeroCount\n",
    "from xgboost import XGBClassifier\n",
    "from tpot.export_utils import set_param_recursive\n",
    "\n",
    "def get_model_v4():\n",
    "    exported_pipeline = make_pipeline(\n",
    "        StackingEstimator(estimator=XGBClassifier(learning_rate=0.001, max_depth=2, min_child_weight=17, n_estimators=100, nthread=1, subsample=0.8)),\n",
    "        ZeroCount(),\n",
    "        VarianceThreshold(threshold=0.2),\n",
    "        RFE(estimator=ExtraTreesClassifier(criterion=\"entropy\", max_features=0.15000000000000002, n_estimators=100), step=0.2),\n",
    "        GradientBoostingClassifier(learning_rate=0.5, max_depth=7, max_features=0.15000000000000002, min_samples_leaf=2, min_samples_split=3, n_estimators=100, subsample=1.0)\n",
    "    )\n",
    "    # Fix random state for all the steps in exported pipeline\n",
    "    set_param_recursive(exported_pipeline.steps, 'random_state', 37)\n",
    "    return exported_pipeline"
   ]
  },
  {
   "cell_type": "code",
   "execution_count": 5,
   "metadata": {},
   "outputs": [],
   "source": [
    "from geopy.distance import geodesic\n",
    "import matplotlib.pyplot as plt\n",
    "from scipy.stats import skew, kurtosis\n",
    "\n",
    "def get_distance(lat1, lon1, lat2, lon2):\n",
    "    R = 6373.0\n",
    "    \n",
    "    lat1 = np.radians(lat1)\n",
    "    lon1 = np.radians(lon1)\n",
    "    lat2 = np.radians(lat2)\n",
    "    lon2 = np.radians(lon2)\n",
    "    \n",
    "    dlon = lon2 - lon1\n",
    "    dlat = lat2 - lat1\n",
    "\n",
    "    a = np.sin(dlat / 2)**2 + np.cos(lat1) * np.cos(lat2) * np.sin(dlon / 2)**2\n",
    "    c = 2 * np.arctan2(np.sqrt(a), np.sqrt(1 - a))\n",
    "    distance = R * c\n",
    "    return distance\n",
    "\n",
    "\n",
    "def get_feature(arr):\n",
    "    feature = [np.max(arr), np.quantile(arr, 0.9), np.quantile(arr, 0.1),\n",
    "               np.quantile(arr, 0.75), np.quantile(arr, 0.25), np.mean(arr), np.std(arr),\n",
    "               np.median(arr),  np.std(arr) / np.mean(arr)]\n",
    "    feature.append(np.corrcoef(np.array([arr[:-1], arr[1:]]))[0, 1])\n",
    "    feature.append(skew(arr))\n",
    "    feature.append(kurtosis(arr))\n",
    "    return feature\n",
    "\n",
    "def get_paper_feature():\n",
    "    train_df_list = []\n",
    "    for file_name in os.listdir(train_path):\n",
    "        df = pd.read_csv(os.path.join(train_path, file_name))\n",
    "        train_df_list.append(df)\n",
    "\n",
    "    train_df = pd.concat(train_df_list)\n",
    "\n",
    "    train_df['time'] = pd.to_datetime(train_df['time'], format='%m%d %H:%M:%S')\n",
    "\n",
    "    all_df = pd.concat([train_df], sort=False)\n",
    "\n",
    "    features = []\n",
    "    for ship_id, group in all_df.groupby('渔船ID'):\n",
    "\n",
    "        type_ = group['type'].values[0]\n",
    "\n",
    "        group = group.sort_values(by=['time'])\n",
    "        lat = group['lat'].values\n",
    "        lon = group['lon'].values\n",
    "        time_ = group['time'].values\n",
    "        dire = group['方向'].values\n",
    "\n",
    "        speed_list = []\n",
    "        for i in range(lat.shape[0]):\n",
    "            if i == 0:\n",
    "                continue\n",
    "            hour = (time_[i] - time_[i-1]) / np.timedelta64(1,'h')\n",
    "            dist = geodesic((lat[i-1], lon[i-1]), (lat[i], lon[i])).km\n",
    "            speed_list.append(dist / hour)\n",
    "\n",
    "#         acc_list = []\n",
    "#         for i in range(len(speed_list)):\n",
    "#             if i == 0:\n",
    "#                 continue\n",
    "#             hour = (time_[i] - time_[i-1]) / np.timedelta64(1,'h')\n",
    "#             acc = (speed_list[i] - speed_list[i-1]) / hour\n",
    "#             acc_list.append(acc)\n",
    "\n",
    "        c = np.sum(np.cos(dire / 180 * np.pi)) / group.shape[0]\n",
    "        s = np.sum(np.sin(dire / 180 * np.pi)) / group.shape[0]\n",
    "        r = np.sqrt(c ** 2 + s ** 2)\n",
    "        theta = np.arctan(s / c)\n",
    "        angle_feature = [r, theta, np.sqrt(-2 * np.log(r))]\n",
    "        \n",
    "        turn_list = []\n",
    "        for i in range(dire.shape[0]):\n",
    "            if i == 0:\n",
    "                continue\n",
    "            turn = 1 - np.cos(dire[i-1] / 180 * np.pi - dire[i] / 180 * np.pi)\n",
    "            turn_list.append(turn * np.pi)\n",
    "        turn_list = np.array(turn_list)\n",
    "        c = np.sum(np.cos(turn_list)) / (group.shape[0] - 1)\n",
    "        s = np.sum(np.sin(turn_list)) / (group.shape[0] - 1)\n",
    "        r = np.sqrt(c ** 2 + s ** 2)\n",
    "        theta = np.arctan(s / c)\n",
    "        turn_feature =  [r, theta, np.sqrt(-2 * np.log(r))]\n",
    "        \n",
    "#         sinuosity = []\n",
    "#         length = 2\n",
    "#         for i in range(lat.shape[0]):\n",
    "#             if i <= length-1:\n",
    "#                 continue\n",
    "#             dist_line = get_distance(lat[i-length], lon[i-length], lat[i], lon[i])\n",
    "\n",
    "#             dist_sum = 0\n",
    "#             for j in range(length):\n",
    "#                 dist_sum += get_distance(lat[i-j-1], lon[i-j-1], lat[i-j], lon[i-j])\n",
    "\n",
    "#             if dist_line == 0:\n",
    "#                 sinuosity.append(0)\n",
    "#             else:\n",
    "#                 sinuosity.append(dist_sum / dist_line)\n",
    "\n",
    "        features.append(np.concatenate([get_feature(speed_list),\n",
    "                                        angle_feature[:1], turn_feature[:1]]))\n",
    "\n",
    "    return features"
   ]
  },
  {
   "cell_type": "code",
   "execution_count": 6,
   "metadata": {},
   "outputs": [
    {
     "name": "stdout",
     "output_type": "stream",
     "text": [
      "Index(['lat__quantile__q_0.9', 'lon__quantile__q_0.1', 'lat__maximum',\n",
      "       'lon__minimum', '速度__number_crossing_m__m_1', 'lat__quantile__q_0.8',\n",
      "       'lon__quantile__q_0.2', 'lat__minimum', 'lon__quantile__q_0.4',\n",
      "       'lon__maximum', '速度__quantile__q_0.7',\n",
      "       '速度__ratio_beyond_r_sigma__r_0.5',\n",
      "       '方向__fft_coefficient__coeff_5__attr_\"real\"',\n",
      "       '速度__ar_coefficient__k_10__coeff_1', 'lat__number_cwt_peaks__n_1',\n",
      "       'lon__approximate_entropy__m_2__r_0.1',\n",
      "       'lon__fft_coefficient__coeff_64__attr_\"angle\"', 'lon__quantile__q_0.9',\n",
      "       'lat__quantile__q_0.3', 'lat__fft_coefficient__coeff_5__attr_\"real\"',\n",
      "       'lon__quantile__q_0.3',\n",
      "       'lon__change_quantiles__f_agg_\"mean\"__isabs_True__qh_1.0__ql_0.8',\n",
      "       'lat__fft_coefficient__coeff_74__attr_\"angle\"', 'lon__quantile__q_0.8',\n",
      "       '速度__agg_autocorrelation__f_agg_\"var\"__maxlag_40',\n",
      "       'lat__cwt_coefficients__widths_(2, 5, 10, 20)__coeff_7__w_2',\n",
      "       'lat__quantile__q_0.2', 'lon__fft_coefficient__coeff_2__attr_\"angle\"',\n",
      "       'lat__quantile__q_0.6', '方向__quantile__q_0.9',\n",
      "       '速度__change_quantiles__f_agg_\"var\"__isabs_True__qh_0.8__ql_0.4',\n",
      "       'lat__median', 'lat__quantile__q_0.7', 'lat__quantile__q_0.1',\n",
      "       '速度__fft_coefficient__coeff_9__attr_\"angle\"',\n",
      "       'lat__approximate_entropy__m_2__r_0.1',\n",
      "       'lon__fft_coefficient__coeff_58__attr_\"angle\"',\n",
      "       '方向__fft_coefficient__coeff_42__attr_\"abs\"',\n",
      "       'lon__approximate_entropy__m_2__r_0.3',\n",
      "       '速度__fft_coefficient__coeff_5__attr_\"angle\"',\n",
      "       '方向__fft_coefficient__coeff_91__attr_\"abs\"',\n",
      "       '速度__change_quantiles__f_agg_\"mean\"__isabs_False__qh_0.8__ql_0.0',\n",
      "       'lon__fft_coefficient__coeff_99__attr_\"angle\"',\n",
      "       '方向__change_quantiles__f_agg_\"mean\"__isabs_True__qh_0.6__ql_0.2',\n",
      "       '方向__fft_coefficient__coeff_20__attr_\"real\"', 'lon__quantile__q_0.6',\n",
      "       'lon__percentage_of_reoccurring_datapoints_to_all_datapoints',\n",
      "       '速度__partial_autocorrelation__lag_4', 'lat__abs_energy',\n",
      "       '速度__partial_autocorrelation__lag_6'],\n",
      "      dtype='object')\n"
     ]
    },
    {
     "name": "stderr",
     "output_type": "stream",
     "text": [
      "/Users/yitinglin/Projects/fishing-classification/env/lib/python3.7/site-packages/ipykernel_launcher.py:7: FutureWarning: Sorting because non-concatenation axis is not aligned. A future version\n",
      "of pandas will change to not sort by default.\n",
      "\n",
      "To accept the future behavior, pass 'sort=False'.\n",
      "\n",
      "To retain the current behavior and silence the warning, pass 'sort=True'.\n",
      "\n",
      "  import sys\n"
     ]
    },
    {
     "name": "stdout",
     "output_type": "stream",
     "text": [
      "(8166, 50) (8166, 33)\n"
     ]
    }
   ],
   "source": [
    "X_train_tsfresh, y_train = feature_generate_tsfresh()"
   ]
  },
  {
   "cell_type": "code",
   "execution_count": 7,
   "metadata": {},
   "outputs": [
    {
     "name": "stderr",
     "output_type": "stream",
     "text": [
      "/Users/yitinglin/Projects/fishing-classification/env/lib/python3.7/site-packages/ipykernel_launcher.py:37: FutureWarning: Sorting because non-concatenation axis is not aligned. A future version\n",
      "of pandas will change to not sort by default.\n",
      "\n",
      "To accept the future behavior, pass 'sort=False'.\n",
      "\n",
      "To retain the current behavior and silence the warning, pass 'sort=True'.\n",
      "\n",
      "/Users/yitinglin/Projects/fishing-classification/env/lib/python3.7/site-packages/ipykernel_launcher.py:25: RuntimeWarning: invalid value encountered in double_scalars\n",
      "/Users/yitinglin/Projects/fishing-classification/env/lib/python3.7/site-packages/numpy/lib/function_base.py:2534: RuntimeWarning: invalid value encountered in true_divide\n",
      "  c /= stddev[:, None]\n",
      "/Users/yitinglin/Projects/fishing-classification/env/lib/python3.7/site-packages/numpy/lib/function_base.py:2535: RuntimeWarning: invalid value encountered in true_divide\n",
      "  c /= stddev[None, :]\n"
     ]
    }
   ],
   "source": [
    "X_paper_train = get_paper_feature()"
   ]
  },
  {
   "cell_type": "code",
   "execution_count": 8,
   "metadata": {},
   "outputs": [],
   "source": [
    "le = preprocessing.LabelEncoder()\n",
    "y_train = le.fit_transform(y_train)"
   ]
  },
  {
   "cell_type": "code",
   "execution_count": 9,
   "metadata": {},
   "outputs": [],
   "source": [
    "from sklearn.impute import SimpleImputer\n",
    "\n",
    "X_train = np.concatenate([X_train_tsfresh.values, np.array(X_paper_train)], axis=1)\n",
    "\n",
    "imputer = SimpleImputer(missing_values=np.nan, strategy='mean')\n",
    "X_train = imputer.fit_transform(pd.DataFrame(X_train).replace([np.inf, -np.inf], np.nan).values)"
   ]
  },
  {
   "cell_type": "code",
   "execution_count": 10,
   "metadata": {},
   "outputs": [
    {
     "data": {
      "text/plain": [
       "((8166, 70), (8166, 56))"
      ]
     },
     "execution_count": 10,
     "metadata": {},
     "output_type": "execute_result"
    }
   ],
   "source": [
    "X_train.shape, X_train_tsfresh.shape"
   ]
  },
  {
   "cell_type": "code",
   "execution_count": 11,
   "metadata": {},
   "outputs": [],
   "source": [
    "from sklearn.ensemble import RandomForestClassifier"
   ]
  },
  {
   "cell_type": "code",
   "execution_count": 12,
   "metadata": {},
   "outputs": [
    {
     "name": "stdout",
     "output_type": "stream",
     "text": [
      "[0.9070596897760149, 0.9034521057812653, 0.909143147035223, 0.9101786452238425, 0.9101814858807319]\n",
      "0.9080030147394156 0.0025447844899796875\n",
      "[0.9029012439218346, 0.9235586535639501, 0.902513600024824, 0.9110527876200992, 0.9008766875083026]\n",
      "0.9081805945278021 0.00846247741675804\n"
     ]
    }
   ],
   "source": [
    "kf = KFold(n_splits=5, random_state=2019, shuffle=True)\n",
    "model_v1_list = []\n",
    "score_v1_list = []\n",
    "for train_index, test_index in kf.split(X_train):\n",
    "    model_v1 = get_model()\n",
    "    eval_set = (X_train[test_index], y_train[test_index])\n",
    "    model_v1.fit(X_train[train_index], y_train[train_index])\n",
    "    model_v1_list.append(model_v1)\n",
    "    score_v1_list.append(f1_score(y_train[test_index], model_v1.predict(X_train[test_index]), average='macro'))\n",
    "print(score_v1_list)\n",
    "print(np.mean(score_v1_list), np.std(score_v1_list))\n",
    "\n",
    "kf = KFold(n_splits=5, random_state=22, shuffle=True)\n",
    "model_v2_list = []\n",
    "score_v2_list = []\n",
    "for train_index, test_index in kf.split(X_train):\n",
    "    model_v2 = get_model_v2()\n",
    "    eval_set = (X_train[test_index], y_train[test_index])\n",
    "    model_v2.fit(X_train[train_index], y_train[train_index])\n",
    "    model_v2_list.append(model_v2)\n",
    "    score_v2_list.append(f1_score(y_train[test_index], model_v2.predict(X_train[test_index]), average='macro'))\n",
    "print(score_v2_list)\n",
    "print(np.mean(score_v2_list), np.std(score_v2_list))"
   ]
  },
  {
   "cell_type": "code",
   "execution_count": 13,
   "metadata": {},
   "outputs": [
    {
     "name": "stdout",
     "output_type": "stream",
     "text": [
      "[0.9041714371155161, 0.9270159183514962, 0.9082592533329926, 0.9127207010997207, 0.8988635270078261]\n",
      "0.9102061673815103 0.009568223887799786\n"
     ]
    }
   ],
   "source": [
    "kf = KFold(n_splits=5, random_state=22, shuffle=True)\n",
    "model_v3_list = []\n",
    "score_v3_list = []\n",
    "for train_index, test_index in kf.split(X_train):\n",
    "    model_v3 = get_model_v3()\n",
    "    eval_set = (X_train[test_index], y_train[test_index])\n",
    "    model_v3.fit(X_train[train_index], y_train[train_index])\n",
    "    \n",
    "    train_proba = model_v3.predict_proba(X_train[train_index])\n",
    "    test_proba = model_v3.predict_proba(X_train[test_index])\n",
    "\n",
    "    model_v3_list.append(model_v3)\n",
    "    score_v3_list.append(f1_score(y_train[test_index], model_v3.predict(X_train[test_index]), average='macro'))\n",
    "\n",
    "print(score_v3_list)\n",
    "print(np.mean(score_v3_list), np.std(score_v3_list))"
   ]
  },
  {
   "cell_type": "code",
   "execution_count": 14,
   "metadata": {},
   "outputs": [
    {
     "name": "stdout",
     "output_type": "stream",
     "text": [
      "[0.9049565032682895, 0.9294512892332593, 0.9184542968671158, 0.9065878596411672, 0.8987416682891181]\n",
      "0.9116383234597899 0.010956613195528455\n"
     ]
    }
   ],
   "source": [
    "kf = KFold(n_splits=5, random_state=22, shuffle=True)\n",
    "model_v4_list = []\n",
    "score_v4_list = []\n",
    "for train_index, test_index in kf.split(X_train):\n",
    "    model_v4 = get_model_v4()\n",
    "    eval_set = (X_train[test_index], y_train[test_index])\n",
    "    model_v4.fit(X_train[train_index], y_train[train_index])\n",
    "    \n",
    "    train_proba = model_v4.predict_proba(X_train[train_index])\n",
    "    test_proba = model_v4.predict_proba(X_train[test_index])\n",
    "\n",
    "    model_v4_list.append(model_v4)\n",
    "    score_v4_list.append(f1_score(y_train[test_index], model_v4.predict(X_train[test_index]), average='macro'))\n",
    "\n",
    "print(score_v4_list)\n",
    "print(np.mean(score_v4_list), np.std(score_v4_list))"
   ]
  },
  {
   "cell_type": "code",
   "execution_count": 15,
   "metadata": {},
   "outputs": [],
   "source": [
    "df = pd.DataFrame(X_train)\n",
    "df['type'] = le.inverse_transform(y_train)"
   ]
  },
  {
   "cell_type": "code",
   "execution_count": 16,
   "metadata": {},
   "outputs": [],
   "source": [
    "df.to_csv('./train.csv', index=False)"
   ]
  },
  {
   "cell_type": "code",
   "execution_count": 18,
   "metadata": {},
   "outputs": [
    {
     "name": "stdout",
     "output_type": "stream",
     "text": [
      "[0.9080022218336543, 0.9109605244052391, 0.9171413791194124, 0.9053365966488025, 0.9144011732928566]\n",
      "0.9111683790599929 0.0042474728837917485\n"
     ]
    }
   ],
   "source": [
    "from sklearn.ensemble import ExtraTreesClassifier, RandomForestClassifier\n",
    "from sklearn.feature_selection import RFE\n",
    "from sklearn.model_selection import train_test_split\n",
    "from sklearn.naive_bayes import BernoulliNB\n",
    "from sklearn.pipeline import make_pipeline, make_union\n",
    "from tpot.builtins import StackingEstimator\n",
    "from tpot.export_utils import set_param_recursive\n",
    "\n",
    "def get_model_v5():\n",
    "    exported_pipeline = make_pipeline(\n",
    "        StackingEstimator(estimator=BernoulliNB(alpha=1.0, fit_prior=False)),\n",
    "        RFE(estimator=ExtraTreesClassifier(criterion=\"entropy\", max_features=0.45, n_estimators=100), step=0.6500000000000001),\n",
    "        RandomForestClassifier(bootstrap=False, criterion=\"entropy\", max_features=0.1, min_samples_leaf=1, min_samples_split=2, n_estimators=100)\n",
    "    )\n",
    "    # Fix random state for all the steps in exported pipeline\n",
    "    set_param_recursive(exported_pipeline.steps, 'random_state', 42)\n",
    "    \n",
    "    return exported_pipeline\n",
    "\n",
    "kf = KFold(n_splits=5, random_state=1, shuffle=True)\n",
    "model_v5_list = []\n",
    "score_v5_list = []\n",
    "for train_index, test_index in kf.split(X_train):\n",
    "    model_v5 = get_model_v5()\n",
    "    eval_set = (X_train[test_index], y_train[test_index])\n",
    "    model_v5.fit(X_train[train_index], y_train[train_index])\n",
    "    \n",
    "    train_proba = model_v5.predict_proba(X_train[train_index])\n",
    "    test_proba = model_v5.predict_proba(X_train[test_index])\n",
    "\n",
    "    model_v5_list.append(model_v5)\n",
    "    score_v5_list.append(f1_score(y_train[test_index], model_v5.predict(X_train[test_index]), average='macro'))\n",
    "\n",
    "print(score_v5_list)\n",
    "print(np.mean(score_v5_list), np.std(score_v5_list))"
   ]
  },
  {
   "cell_type": "code",
   "execution_count": 23,
   "metadata": {},
   "outputs": [
    {
     "data": {
      "text/html": [
       "<div>\n",
       "<style scoped>\n",
       "    .dataframe tbody tr th:only-of-type {\n",
       "        vertical-align: middle;\n",
       "    }\n",
       "\n",
       "    .dataframe tbody tr th {\n",
       "        vertical-align: top;\n",
       "    }\n",
       "\n",
       "    .dataframe thead th {\n",
       "        text-align: right;\n",
       "    }\n",
       "</style>\n",
       "<table border=\"1\" class=\"dataframe\">\n",
       "  <thead>\n",
       "    <tr style=\"text-align: right;\">\n",
       "      <th></th>\n",
       "      <th>1</th>\n",
       "      <th>2</th>\n",
       "      <th>3</th>\n",
       "    </tr>\n",
       "    <tr>\n",
       "      <th>0</th>\n",
       "      <th></th>\n",
       "      <th></th>\n",
       "      <th></th>\n",
       "    </tr>\n",
       "  </thead>\n",
       "  <tbody>\n",
       "    <tr>\n",
       "      <th>28165</th>\n",
       "      <td>0.006352</td>\n",
       "      <td>0.980176</td>\n",
       "      <td>0.013472</td>\n",
       "    </tr>\n",
       "  </tbody>\n",
       "</table>\n",
       "</div>"
      ],
      "text/plain": [
       "              1         2         3\n",
       "0                                  \n",
       "28165  0.006352  0.980176  0.013472"
      ]
     },
     "execution_count": 23,
     "metadata": {},
     "output_type": "execute_result"
    }
   ],
   "source": [
    "proba = pd.read_csv('./probaresult.csv', header=None, index_col=0)\n"
   ]
  },
  {
   "cell_type": "code",
   "execution_count": 29,
   "metadata": {},
   "outputs": [
    {
     "data": {
      "text/plain": [
       "array([[0.43817593, 0.54008796, 0.02173611]])"
      ]
     },
     "execution_count": 29,
     "metadata": {},
     "output_type": "execute_result"
    }
   ],
   "source": [
    "(model_v5.predict_proba([X_train[test_index][0]]) + proba.values) / 2"
   ]
  },
  {
   "cell_type": "code",
   "execution_count": null,
   "metadata": {},
   "outputs": [],
   "source": []
  }
 ],
 "metadata": {
  "kernelspec": {
   "display_name": "Python 3",
   "language": "python",
   "name": "python3"
  },
  "language_info": {
   "codemirror_mode": {
    "name": "ipython",
    "version": 3
   },
   "file_extension": ".py",
   "mimetype": "text/x-python",
   "name": "python",
   "nbconvert_exporter": "python",
   "pygments_lexer": "ipython3",
   "version": "3.7.5"
  }
 },
 "nbformat": 4,
 "nbformat_minor": 4
}
