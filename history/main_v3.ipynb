{
 "cells": [
  {
   "cell_type": "code",
   "execution_count": 1,
   "metadata": {},
   "outputs": [],
   "source": [
    "import os\n",
    "import numpy as np\n",
    "import pandas as pd\n",
    "import lightgbm as lgb\n",
    "from sklearn import preprocessing"
   ]
  },
  {
   "cell_type": "code",
   "execution_count": 2,
   "metadata": {},
   "outputs": [],
   "source": [
    "def feature_generate_manually():\n",
    "    train_path = '../data/hy_round1_train_20200102'\n",
    "    test_path = '../data/hy_round1_testA_20200102'\n",
    "\n",
    "    train_df_list = []\n",
    "    for file_name in os.listdir(train_path):\n",
    "        df = pd.read_csv(os.path.join(train_path, file_name))\n",
    "        train_df_list.append(df)\n",
    "\n",
    "    test_df_list = []\n",
    "    for file_name in os.listdir(test_path):\n",
    "        df = pd.read_csv(os.path.join(test_path, file_name))\n",
    "        test_df_list.append(df)\n",
    "\n",
    "    train_df = pd.concat(train_df_list)\n",
    "    test_df = pd.concat(test_df_list)\n",
    "\n",
    "    train_df['time'] = pd.to_datetime(train_df['time'], format='%m%d %H:%M:%S')\n",
    "    test_df['time'] = pd.to_datetime(test_df['time'], format='%m%d %H:%M:%S')\n",
    "\n",
    "    all_df = pd.concat([train_df, test_df], sort=False)\n",
    "\n",
    "    new_df = all_df.groupby('渔船ID').agg(x_min=('x', 'min'), x_max=('x', 'max'), x_mean=('x', 'mean'), x_std=('x', 'std'), x_skew=('x', 'skew'), x_sum=('x', 'sum'),\n",
    "                y_min=('y', 'min'), y_max=('y', 'max'), y_mean=('y', 'mean'), y_std=('y', 'std'), y_skew=('y', 'skew'), y_sum=('y', 'sum'),\n",
    "                v_min=('速度', 'min'), v_max=('速度', 'max'), v_mean=('速度', 'mean'), v_std=('速度', 'std'), v_skew=('速度', 'skew'), v_sum=('速度', 'sum'),\n",
    "                d_min=('方向', 'min'), d_max=('方向', 'max'), d_mean=('方向', 'mean'), d_std=('方向', 'std'), d_skew=('方向', 'skew'), d_sum=('方向', 'sum'))\n",
    "    new_df['x_max-x_min'] = new_df['x_max'] - new_df['x_min']\n",
    "    new_df['y_max-y_min'] = new_df['y_max'] - new_df['y_min']\n",
    "    new_df['x_max-y_min'] = new_df['x_max'] - new_df['y_min']\n",
    "    new_df['y_max-x_min'] = new_df['y_max'] - new_df['x_min']\n",
    "\n",
    "    new_df['slope'] = new_df['y_max-y_min'] / np.where(new_df['x_max-x_min']==0, 0.001, new_df['x_max-x_min'])\n",
    "    new_df['area'] = new_df['x_max-x_min'] * new_df['y_max-y_min']\n",
    "\n",
    "    new_df['type'] = all_df.groupby('渔船ID').agg(type=('type', 'first'))['type'].values\n",
    "\n",
    "    X_train = new_df.drop(columns=['type']).iloc[:7000]\n",
    "    y_train = new_df.iloc[:7000]['type']\n",
    "\n",
    "    X_test = new_df.drop(columns=['type']).iloc[7000:]\n",
    "\n",
    "    return X_train, y_train, X_test\n"
   ]
  },
  {
   "cell_type": "code",
   "execution_count": 3,
   "metadata": {},
   "outputs": [],
   "source": [
    "def feature_generate_tsfresh():\n",
    "    train_df = pd.read_csv('./train_v5.csv')\n",
    "    X_train = train_df.drop(columns=['type'])\n",
    "    y_train = train_df['type']\n",
    "\n",
    "    test_df = pd.read_csv('./test_v5.csv')\n",
    "    X_test = test_df[X_train.columns]\n",
    "    \n",
    "    X_train_manully, _, X_test_manully = feature_generate_manually()\n",
    "\n",
    "    X_train['x_max-x_min'] = X_train_manully['x_max-x_min'].values\n",
    "    X_test['x_max-x_min'] = X_test_manully['x_max-x_min'].values\n",
    "    X_train['x_max-y_min'] = X_train_manully['x_max-y_min'].values\n",
    "    X_test['x_max-y_min'] = X_test_manully['x_max-y_min'].values\n",
    "    X_train['y_max-x_min'] = X_train_manully['y_max-x_min'].values\n",
    "    X_test['y_max-x_min'] = X_test_manully['y_max-x_min'].values\n",
    "    X_train['y_max-y_min'] = X_train_manully['y_max-y_min'].values\n",
    "    X_test['y_max-y_min'] = X_test_manully['y_max-y_min'].values\n",
    "\n",
    "    X_train['slope'] = X_train_manully['slope'].values\n",
    "    X_test['slope'] = X_test_manully['slope'].values\n",
    "    X_train['area'] = X_train_manully['area'].values\n",
    "    X_test['area'] = X_test_manully['area'].values\n",
    "\n",
    "    base_model = lgb.LGBMClassifier(n_estimators=500, subsample=0.8)\n",
    "    base_model.fit(X_train.values, y_train)\n",
    "\n",
    "    selected_columns = X_train.columns[np.argsort(base_model.feature_importances_)[::-1][:200]]\n",
    "    print(selected_columns)\n",
    "\n",
    "    X_train = X_train[selected_columns]\n",
    "    X_test = X_test[selected_columns]\n",
    "    \n",
    "    for column in list(X_test.columns[X_test.isnull().sum() > 0]):\n",
    "        mean_val = X_test[column].mean()\n",
    "        X_test[column].fillna(mean_val, inplace=True)\n",
    "\n",
    "    return X_train.values, y_train.values, X_test.values"
   ]
  },
  {
   "cell_type": "code",
   "execution_count": 4,
   "metadata": {},
   "outputs": [
    {
     "name": "stdout",
     "output_type": "stream",
     "text": [
      "Index(['y_max-x_min', 'x_max-y_min', 'x__quantile__q_0.1',\n",
      "       'y__quantile__q_0.9', 'y__quantile__q_0.7', 'y__minimum',\n",
      "       '速度__number_crossing_m__m_1', 'y__maximum', 'x__minimum',\n",
      "       'dist__minimum',\n",
      "       ...\n",
      "       'x__cwt_coefficients__widths_(2, 5, 10, 20)__coeff_14__w_5',\n",
      "       'd__fft_coefficient__coeff_10__attr_\"abs\"',\n",
      "       'y__ar_coefficient__k_10__coeff_4',\n",
      "       '速度__agg_linear_trend__f_agg_\"var\"__chunk_len_10__attr_\"stderr\"',\n",
      "       'y__change_quantiles__f_agg_\"mean\"__isabs_False__qh_1.0__ql_0.4',\n",
      "       '速度__fft_coefficient__coeff_6__attr_\"real\"',\n",
      "       'd_2__change_quantiles__f_agg_\"var\"__isabs_False__qh_0.8__ql_0.6',\n",
      "       'dist__cwt_coefficients__widths_(2, 5, 10, 20)__coeff_12__w_2',\n",
      "       'dist__change_quantiles__f_agg_\"var\"__isabs_True__qh_1.0__ql_0.8',\n",
      "       '速度__fft_coefficient__coeff_70__attr_\"abs\"'],\n",
      "      dtype='object', length=200)\n"
     ]
    }
   ],
   "source": [
    "X_train_tsfresh, y_train_tsfresh, X_test_tsfresh = feature_generate_tsfresh()"
   ]
  },
  {
   "cell_type": "code",
   "execution_count": 31,
   "metadata": {},
   "outputs": [],
   "source": [
    "X_train = np.concatenate([X_train_tsfresh], axis=1)[:, :80]\n",
    "X_test = np.concatenate([X_test_tsfresh], axis=1)[:, :80]\n",
    "\n",
    "y_train = y_train_tsfresh"
   ]
  },
  {
   "cell_type": "code",
   "execution_count": 32,
   "metadata": {},
   "outputs": [],
   "source": [
    "import tensorflow as tf\n",
    "from tensorflow import keras\n",
    "from sklearn.preprocessing import StandardScaler\n",
    "from sklearn.preprocessing import LabelEncoder\n",
    "from sklearn.metrics import f1_score\n",
    "from sklearn.model_selection import KFold"
   ]
  },
  {
   "cell_type": "code",
   "execution_count": 33,
   "metadata": {},
   "outputs": [],
   "source": [
    "encoder = LabelEncoder()\n",
    "y_train = encoder.fit_transform(y_train)\n",
    "y_train = keras.utils.to_categorical(y_train)\n",
    "\n",
    "scaler = StandardScaler()\n",
    "X_train = scaler.fit_transform(X_train)"
   ]
  },
  {
   "cell_type": "code",
   "execution_count": 34,
   "metadata": {},
   "outputs": [
    {
     "name": "stdout",
     "output_type": "stream",
     "text": [
      "0.7622464289039379\n",
      "0.720399835039463\n",
      "0.7417325481020759\n",
      "0.7573644772561942\n",
      "0.7234758098995483\n"
     ]
    }
   ],
   "source": [
    "kf = KFold(5, shuffle=True, random_state=42)\n",
    "for index, (train_index, valid_index) in enumerate(kf.split(X_train, y_train)):\n",
    "    X_train_, X_valid, y_train_, y_valid = X_train[train_index], X_train[valid_index], y_train[train_index], y_train[valid_index]\n",
    "    \n",
    "    inputs = keras.Input(shape=(80,))\n",
    "    x = keras.layers.Dense(512, activation='relu')(inputs)\n",
    "    x = keras.layers.Dropout(0.5)(x)\n",
    "    x = keras.layers.Dense(128, activation='relu')(x)\n",
    "    x = keras.layers.Dropout(0.5)(x)\n",
    "    x = keras.layers.Dense(128, activation='relu')(x)\n",
    "    x = keras.layers.Dropout(0.5)(x)\n",
    "    x = keras.layers.Dense(128, activation='relu')(x)\n",
    "    x = keras.layers.Dense(64, activation='relu')(x)\n",
    "    x = keras.layers.Dense(32, activation='relu')(x)\n",
    "    output = keras.layers.Dense(3, activation='softmax')(x)\n",
    "    model = keras.models.Model(inputs=inputs, outputs=output)\n",
    "    model.compile(optimizer='adam', loss='categorical_crossentropy', metrics=['accuracy'])\n",
    "    \n",
    "    model.fit(x=X_train_, y=y_train_, validation_data=(X_valid, y_valid), batch_size=32, epochs=20, verbose=False)\n",
    "    y_pred = model.predict(X_valid)\n",
    "    y_valid = np.argmax(y_valid, axis=1)\n",
    "    y_pred = np.argmax(y_pred, axis=1)\n",
    "    valid_score = f1_score(y_valid, y_pred, average='macro')\n",
    "    print(valid_score)"
   ]
  },
  {
   "cell_type": "code",
   "execution_count": 15,
   "metadata": {},
   "outputs": [],
   "source": [
    "import os\n",
    "import pandas as pd\n",
    "import numpy as np"
   ]
  },
  {
   "cell_type": "code",
   "execution_count": 16,
   "metadata": {},
   "outputs": [],
   "source": [
    "train_path = '../data/hy_round1_train_20200102'\n",
    "test_path = '../data/hy_round1_testA_20200102'\n",
    "\n",
    "train_df_list = []\n",
    "for file_name in os.listdir(train_path):\n",
    "    df = pd.read_csv(os.path.join(train_path, file_name))\n",
    "    train_df_list.append(df)\n",
    "    \n",
    "test_df_list = []\n",
    "for file_name in os.listdir(test_path):\n",
    "    df = pd.read_csv(os.path.join(test_path, file_name))\n",
    "    test_df_list.append(df)\n",
    "\n",
    "train_df = pd.concat(train_df_list)\n",
    "test_df = pd.concat(test_df_list)\n",
    "\n",
    "train_df['time'] = pd.to_datetime(train_df['time'], format='%m%d %H:%M:%S')\n",
    "test_df['time'] = pd.to_datetime(test_df['time'], format='%m%d %H:%M:%S')\n",
    "\n",
    "all_df = pd.concat([train_df, test_df], sort=False)"
   ]
  },
  {
   "cell_type": "code",
   "execution_count": 17,
   "metadata": {},
   "outputs": [],
   "source": [
    "train_x = []\n",
    "test_x = []\n",
    "train_y = []\n",
    "test_y = []\n",
    "for ship_id, group in all_df.groupby('渔船ID'):\n",
    "    if int(ship_id) < 7000:\n",
    "        train_x.append(np.mean(group['x'].values))\n",
    "        train_y.append(np.mean(group['y'].values))\n",
    "    else:\n",
    "        test_x.append(np.mean(group['x'].values))\n",
    "        test_y.append(np.mean(group['y'].values))"
   ]
  },
  {
   "cell_type": "code",
   "execution_count": 21,
   "metadata": {},
   "outputs": [
    {
     "data": {
      "text/plain": [
       "<matplotlib.collections.PathCollection at 0x1484a1710>"
      ]
     },
     "execution_count": 21,
     "metadata": {},
     "output_type": "execute_result"
    },
    {
     "data": {
      "image/png": "[encoded data removed]",
      "text/plain": [
       "<Figure size 432x288 with 1 Axes>"
      ]
     },
     "metadata": {
      "needs_background": "light"
     },
     "output_type": "display_data"
    }
   ],
   "source": [
    "import matplotlib.pyplot as plt\n",
    "plt.scatter(train_x, train_y)\n",
    "plt.scatter(test_x, test_y)"
   ]
  },
  {
   "cell_type": "code",
   "execution_count": null,
   "metadata": {},
   "outputs": [],
   "source": []
  }
 ],
 "metadata": {
  "kernelspec": {
   "display_name": "Python 3",
   "language": "python",
   "name": "python3"
  },
  "language_info": {
   "codemirror_mode": {
    "name": "ipython",
    "version": 3
   },
   "file_extension": ".py",
   "mimetype": "text/x-python",
   "name": "python",
   "nbconvert_exporter": "python",
   "pygments_lexer": "ipython3",
   "version": "3.7.5"
  }
 },
 "nbformat": 4,
 "nbformat_minor": 4
}
