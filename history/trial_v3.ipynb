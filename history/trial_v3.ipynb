{
 "cells": [
  {
   "cell_type": "code",
   "execution_count": 1,
   "metadata": {},
   "outputs": [],
   "source": [
    "import numpy as np\n",
    "import pandas as pd\n",
    "from sklearn.ensemble import ExtraTreesClassifier\n",
    "from sklearn.feature_selection import SelectPercentile, VarianceThreshold, f_classif\n",
    "from sklearn.linear_model import SGDClassifier\n",
    "from sklearn.model_selection import train_test_split\n",
    "from sklearn.pipeline import make_pipeline, make_union\n",
    "from tpot.builtins import StackingEstimator\n",
    "from tpot.export_utils import set_param_recursive\n",
    "from sklearn.preprocessing import FunctionTransformer\n",
    "from copy import copy\n",
    "\n",
    "import os\n",
    "import lightgbm as lgb\n",
    "from sklearn import preprocessing"
   ]
  },
  {
   "cell_type": "code",
   "execution_count": 2,
   "metadata": {},
   "outputs": [],
   "source": [
    "def get_model():\n",
    "    exported_pipeline = make_pipeline(\n",
    "        make_union(\n",
    "            make_pipeline(\n",
    "                make_union(\n",
    "                    FunctionTransformer(copy),\n",
    "                    FunctionTransformer(copy)\n",
    "                ),\n",
    "                SelectPercentile(score_func=f_classif, percentile=18)\n",
    "            ),\n",
    "            FunctionTransformer(copy)\n",
    "        ),\n",
    "        StackingEstimator(estimator=SGDClassifier(alpha=0.01, eta0=0.1, fit_intercept=False, l1_ratio=1.0, learning_rate=\"constant\", loss=\"hinge\", penalty=\"elasticnet\", power_t=0.1)),\n",
    "        VarianceThreshold(threshold=0.05),\n",
    "        ExtraTreesClassifier(bootstrap=False, criterion=\"entropy\", max_features=0.55, min_samples_leaf=1, min_samples_split=4, n_estimators=100)\n",
    "    )\n",
    "    set_param_recursive(exported_pipeline.steps, 'random_state', 42)\n",
    "    return exported_pipeline"
   ]
  },
  {
   "cell_type": "code",
   "execution_count": 3,
   "metadata": {},
   "outputs": [],
   "source": [
    "def feature_generate_manually():\n",
    "    train_path = '../data/hy_round1_train_20200102'\n",
    "    test_path = '../data/hy_round1_testA_20200102'\n",
    "\n",
    "    train_df_list = []\n",
    "    for file_name in os.listdir(train_path):\n",
    "        df = pd.read_csv(os.path.join(train_path, file_name))\n",
    "        train_df_list.append(df)\n",
    "\n",
    "    test_df_list = []\n",
    "    for file_name in os.listdir(test_path):\n",
    "        df = pd.read_csv(os.path.join(test_path, file_name))\n",
    "        test_df_list.append(df)\n",
    "\n",
    "    train_df = pd.concat(train_df_list)\n",
    "    test_df = pd.concat(test_df_list)\n",
    "\n",
    "    train_df['time'] = pd.to_datetime(train_df['time'], format='%m%d %H:%M:%S')\n",
    "    test_df['time'] = pd.to_datetime(test_df['time'], format='%m%d %H:%M:%S')\n",
    "\n",
    "    all_df = pd.concat([train_df, test_df], sort=False)\n",
    "    \n",
    "    new_df = all_df.groupby('渔船ID').agg(x_min=('x', 'min'), x_max=('x', 'max'), x_mean=('x', 'mean'), x_std=('x', 'std'), x_skew=('x', 'skew'), x_sum=('x', 'sum'),\n",
    "                y_min=('y', 'min'), y_max=('y', 'max'), y_mean=('y', 'mean'), y_std=('y', 'std'), y_skew=('y', 'skew'), y_sum=('y', 'sum'),\n",
    "                v_min=('速度', 'min'), v_max=('速度', 'max'), v_mean=('速度', 'mean'), v_std=('速度', 'std'), v_skew=('速度', 'skew'), v_sum=('速度', 'sum'),\n",
    "                d_min=('方向', 'min'), d_max=('方向', 'max'), d_mean=('方向', 'mean'), d_std=('方向', 'std'), d_skew=('方向', 'skew'), d_sum=('方向', 'sum'))\n",
    "    new_df['x_max-x_min'] = new_df['x_max'] - new_df['x_min']\n",
    "    new_df['y_max-y_min'] = new_df['y_max'] - new_df['y_min']\n",
    "    new_df['x_max-y_min'] = new_df['x_max'] - new_df['y_min']\n",
    "    new_df['y_max-x_min'] = new_df['y_max'] - new_df['x_min']\n",
    "    \n",
    "    new_df['slope'] = new_df['y_max-y_min'] / np.where(new_df['x_max-x_min']==0, 0.001, new_df['x_max-x_min'])\n",
    "    new_df['area'] = new_df['x_max-x_min'] * new_df['y_max-y_min']\n",
    "    \n",
    "    new_df['type'] = all_df.groupby('渔船ID').agg(type=('type', 'first'))['type'].values\n",
    "    \n",
    "    print(new_df.drop(columns=['type']).columns)\n",
    "    \n",
    "    X_train = new_df.drop(columns=['type']).iloc[:7000]\n",
    "    y_train = new_df.iloc[:7000]['type']\n",
    "\n",
    "    X_test = new_df.drop(columns=['type']).iloc[7000:]\n",
    "\n",
    "    return X_train, y_train, X_test, new_df.drop(columns=['type']).columns"
   ]
  },
  {
   "cell_type": "code",
   "execution_count": 4,
   "metadata": {},
   "outputs": [],
   "source": [
    "def feature_generate_tsfresh():\n",
    "    train_df = pd.read_csv('./train.csv')\n",
    "    X_train = train_df.drop(columns=['type'])\n",
    "    y_train = train_df['type']\n",
    "    \n",
    "    le = preprocessing.LabelEncoder()\n",
    "    y_train = le.fit_transform(y_train)\n",
    "\n",
    "    test_df = pd.read_csv('./test.csv')\n",
    "    X_test = test_df[X_train.columns]\n",
    "    \n",
    "    base_model =  lgb.LGBMClassifier(n_estimators=400, objective='multiclass')\n",
    "    base_model.fit(X_train.values, y_train)\n",
    "    \n",
    "    selected_columns = X_train.columns[np.argsort(base_model.feature_importances_)[::-1][:30]]\n",
    "    print(selected_columns)\n",
    "    \n",
    "    X_train = X_train[selected_columns]\n",
    "\n",
    "    X_test = X_test[selected_columns]\n",
    "    for column in list(X_test.columns[X_test.isnull().sum() > 0]):\n",
    "        mean_val = X_test[column].mean()\n",
    "        X_test[column].fillna(mean_val, inplace=True)\n",
    "        \n",
    "    X_train_manully, _, X_test_manully, _ = feature_generate_manually()\n",
    "    \n",
    "    X_train['x_max-y_min'] = X_train_manully['x_max-y_min'].values\n",
    "    X_test['x_max-y_min'] = X_test_manully['x_max-y_min'].values\n",
    "    X_train['y_max-x_min'] = X_train_manully['y_max-x_min'].values\n",
    "    X_test['y_max-x_min'] = X_test_manully['y_max-x_min'].values\n",
    "    \n",
    "    return X_train.values, le.inverse_transform(y_train), X_test.values, selected_columns"
   ]
  },
  {
   "cell_type": "code",
   "execution_count": 5,
   "metadata": {},
   "outputs": [
    {
     "name": "stdout",
     "output_type": "stream",
     "text": [
      "Index(['x__quantile__q_0.1', 'y__maximum', 'x__minimum', 'y__quantile__q_0.9',\n",
      "       'x__quantile__q_0.2', 'y__quantile__q_0.8', 'y__quantile__q_0.7',\n",
      "       'y__minimum', '速度__number_crossing_m__m_1', 'x__quantile__q_0.3',\n",
      "       'x__maximum', 'x__quantile__q_0.9', '速度__quantile__q_0.7',\n",
      "       '速度__agg_autocorrelation__f_agg_\"median\"__maxlag_40',\n",
      "       'y__number_cwt_peaks__n_1', 'x__quantile__q_0.4', 'y__quantile__q_0.6',\n",
      "       '方向__ar_coefficient__k_10__coeff_0',\n",
      "       '速度__fft_coefficient__coeff_6__attr_\"real\"', 'y__quantile__q_0.1',\n",
      "       '速度__agg_autocorrelation__f_agg_\"mean\"__maxlag_40',\n",
      "       '速度__ratio_beyond_r_sigma__r_2',\n",
      "       '方向__fft_coefficient__coeff_64__attr_\"abs\"', 'y__quantile__q_0.4',\n",
      "       'y__cwt_coefficients__widths_(2, 5, 10, 20)__coeff_1__w_20',\n",
      "       'x__median', 'x__quantile__q_0.6', 'y__approximate_entropy__m_2__r_0.1',\n",
      "       '速度__fft_coefficient__coeff_70__attr_\"abs\"', 'x__number_peaks__n_1'],\n",
      "      dtype='object')\n"
     ]
    }
   ],
   "source": [
    "X_train_tsfresh, y_train, X_test_tsfresh, feature_tsfresh = feature_generate_tsfresh()"
   ]
  },
  {
   "cell_type": "code",
   "execution_count": 6,
   "metadata": {},
   "outputs": [],
   "source": [
    "le = preprocessing.LabelEncoder()\n",
    "y_train = le.fit_transform(y_train)"
   ]
  },
  {
   "cell_type": "code",
   "execution_count": 7,
   "metadata": {},
   "outputs": [],
   "source": [
    "X_train = np.concatenate([X_train_tsfresh], axis=1)\n",
    "X_test = np.concatenate([X_test_tsfresh], axis=1)"
   ]
  },
  {
   "cell_type": "code",
   "execution_count": 8,
   "metadata": {},
   "outputs": [],
   "source": [
    "from sklearn.metrics import f1_score\n",
    "\n",
    "def evaluate_macroF1_lgb(truth, predictions):  \n",
    "    pred_labels = predictions.reshape(len(np.unique(truth)),-1).argmax(axis=0)\n",
    "    f1 = f1_score(truth, pred_labels, average='macro')\n",
    "    return ('macroF1', f1, True) "
   ]
  },
  {
   "cell_type": "code",
   "execution_count": 9,
   "metadata": {},
   "outputs": [
    {
     "name": "stdout",
     "output_type": "stream",
     "text": [
      "[0.9097063626390233, 0.9268926446082254, 0.9340578283985906, 0.9195219196830928, 0.9086752787327287]\n",
      "0.9197708068123323 0.009790865989106895\n"
     ]
    }
   ],
   "source": [
    "from sklearn.model_selection import KFold\n",
    "from sklearn.metrics import f1_score\n",
    "\n",
    "kf = KFold(n_splits=5, random_state=42, shuffle=True)\n",
    "\n",
    "model_list = []\n",
    "score_list = []\n",
    "for train_index, test_index in kf.split(X_train):\n",
    "    model = get_model()\n",
    "    eval_set = (X_train[test_index], y_train[test_index])\n",
    "    model.fit(X_train[train_index], y_train[train_index])\n",
    "    model_list.append(model)\n",
    "    score_list.append(f1_score(y_train[test_index], model.predict(X_train[test_index]), average='macro'))\n",
    "    \n",
    "print(score_list)\n",
    "print(np.mean(score_list), np.std(score_list))"
   ]
  },
  {
   "cell_type": "code",
   "execution_count": null,
   "metadata": {},
   "outputs": [],
   "source": []
  }
 ],
 "metadata": {
  "kernelspec": {
   "display_name": "Python 3",
   "language": "python",
   "name": "python3"
  },
  "language_info": {
   "codemirror_mode": {
    "name": "ipython",
    "version": 3
   },
   "file_extension": ".py",
   "mimetype": "text/x-python",
   "name": "python",
   "nbconvert_exporter": "python",
   "pygments_lexer": "ipython3",
   "version": "3.7.5"
  }
 },
 "nbformat": 4,
 "nbformat_minor": 4
}
