{
 "cells": [
  {
   "cell_type": "code",
   "execution_count": 1,
   "metadata": {},
   "outputs": [],
   "source": [
    "import os\n",
    "import pandas as pd\n",
    "import numpy as np\n",
    "import matplotlib.pyplot as plt\n",
    "from sklearn.model_selection import KFold, cross_val_score\n",
    "from sklearn.metrics import f1_score\n",
    "import lightgbm as lgb"
   ]
  },
  {
   "cell_type": "code",
   "execution_count": 2,
   "metadata": {},
   "outputs": [],
   "source": [
    "def rmsle_cv(model=None, X_train=None, y_train=None):\n",
    "    seed = 42\n",
    "    n_folds = 5\n",
    "    kf = KFold(n_folds, shuffle=True, random_state=seed).get_n_splits(X_train)\n",
    "    score = cross_val_score(model, X_train, y_train,\n",
    "                           scoring=\"f1_macro\", cv = kf)\n",
    "    return score"
   ]
  },
  {
   "cell_type": "code",
   "execution_count": 3,
   "metadata": {},
   "outputs": [],
   "source": [
    "def feature_generate_manually():\n",
    "    print('reading csv')\n",
    "    train_path = '../data/hy_round1_train_20200102'\n",
    "    test_path = '../data/hy_round1_testA_20200102'\n",
    "\n",
    "    train_df_list = []\n",
    "    for file_name in os.listdir(train_path):\n",
    "        df = pd.read_csv(os.path.join(train_path, file_name))\n",
    "        train_df_list.append(df)\n",
    "\n",
    "    test_df_list = []\n",
    "    for file_name in os.listdir(test_path):\n",
    "        df = pd.read_csv(os.path.join(test_path, file_name))\n",
    "        test_df_list.append(df)\n",
    "        \n",
    "    train_df = pd.concat(train_df_list)\n",
    "    test_df = pd.concat(test_df_list)\n",
    "\n",
    "    train_df['time'] = pd.to_datetime(train_df['time'], format='%m%d %H:%M:%S')\n",
    "    test_df['time'] = pd.to_datetime(test_df['time'], format='%m%d %H:%M:%S')\n",
    "    \n",
    "    all_df = pd.concat([train_df, test_df], sort=False)\n",
    "\n",
    "    print('calculating features')\n",
    "    data_list = []\n",
    "    type_list = []\n",
    "    for ship_id, group in all_df.groupby('渔船ID'):\n",
    "        data_list.append([])\n",
    "        data_list[-1].append(ship_id)\n",
    "\n",
    "        group = group.sort_values(by=['time'])\n",
    "\n",
    "        data_list[-1].append(np.mean(group['速度'].values))\n",
    "        data_list[-1].append(np.std(group['速度'].values))\n",
    "\n",
    "        data_list[-1].append(np.mean(group['方向'].values))\n",
    "        data_list[-1].append(np.std(group['方向'].values))\n",
    "\n",
    "        data_list[-1].append(np.max(group['x'].values) - np.min(group['x'].values))\n",
    "        data_list[-1].append(np.max(group['y'].values) - np.min(group['y'].values))\n",
    "        data_list[-1].append(data_list[-1][-1] * data_list[-1][-2])\n",
    "\n",
    "        type_list.append(group['type'].values[0])\n",
    "\n",
    "    all_df = pd.DataFrame(np.array(data_list)[:, 1:], columns=['v_mean', 'v_std', 'd_mean', 'd_std',\n",
    "                                                               'x_range', 'y_range', 'area'],\n",
    "                          index=np.array(data_list)[:, 0])\n",
    "    all_df['type'] = type_list\n",
    "\n",
    "    X_train = all_df.drop(columns=['type']).iloc[:7000].values\n",
    "    y_train = all_df.iloc[:7000]['type'].values\n",
    "\n",
    "    X_test = all_df.drop(columns=['type']).iloc[7000:].values\n",
    "\n",
    "    return X_train, y_train, X_test"
   ]
  },
  {
   "cell_type": "code",
   "execution_count": 4,
   "metadata": {},
   "outputs": [],
   "source": [
    "def feature_generate_tsfresh():\n",
    "    train_df = pd.read_csv('./train.csv')\n",
    "    X_train = train_df.drop(columns=['type'])\n",
    "    y_train = train_df['type']\n",
    "\n",
    "    test_df = pd.read_csv('./test.csv')\n",
    "    X_test = test_df[X_train.columns]\n",
    "    \n",
    "    base_model =  lgb.LGBMClassifier(n_estimators=1000, subsample=0.8)\n",
    "    base_model.fit(X_train.values, y_train)\n",
    "    \n",
    "    selected_columns = X_train.columns[np.argsort(base_model.feature_importances_)[::-1][:20]]\n",
    "    print(selected_columns)\n",
    "    \n",
    "    X_train = X_train[selected_columns].values\n",
    "    X_test = X_test[selected_columns].values\n",
    "    \n",
    "    return X_train, y_train, X_test"
   ]
  },
  {
   "cell_type": "code",
   "execution_count": 5,
   "metadata": {},
   "outputs": [
    {
     "name": "stdout",
     "output_type": "stream",
     "text": [
      "reading csv\n",
      "calculating features\n"
     ]
    }
   ],
   "source": [
    "X_train_manually, y_train, X_test_manually = feature_generate_manually()"
   ]
  },
  {
   "cell_type": "code",
   "execution_count": 6,
   "metadata": {},
   "outputs": [
    {
     "name": "stdout",
     "output_type": "stream",
     "text": [
      "Index(['x__quantile__q_0.1', 'x__minimum', 'y__quantile__q_0.9', 'y__maximum',\n",
      "       'x__quantile__q_0.2', 'y__quantile__q_0.8', 'y__quantile__q_0.7',\n",
      "       '速度__number_crossing_m__m_1', 'y__minimum', 'x__quantile__q_0.3',\n",
      "       '速度__agg_autocorrelation__f_agg_\"median\"__maxlag_40',\n",
      "       'y__number_cwt_peaks__n_1', 'x__maximum', 'x__quantile__q_0.9',\n",
      "       '速度__quantile__q_0.7', 'x__quantile__q_0.4',\n",
      "       '方向__ar_coefficient__k_10__coeff_0', 'y__quantile__q_0.6',\n",
      "       '速度__fft_coefficient__coeff_6__attr_\"real\"',\n",
      "       '方向__fft_coefficient__coeff_64__attr_\"abs\"'],\n",
      "      dtype='object')\n"
     ]
    }
   ],
   "source": [
    "X_train_tsfresh, y_train, X_test_tsfresh = feature_generate_tsfresh()"
   ]
  },
  {
   "cell_type": "code",
   "execution_count": 7,
   "metadata": {},
   "outputs": [],
   "source": [
    "from sklearn import preprocessing\n",
    "\n",
    "le = preprocessing.LabelEncoder()\n",
    "y_train = le.fit_transform(y_train)"
   ]
  },
  {
   "cell_type": "code",
   "execution_count": 8,
   "metadata": {},
   "outputs": [
    {
     "name": "stdout",
     "output_type": "stream",
     "text": [
      "0.6220162695040433 0.012900053865828282\n",
      "0.8988165642852117 0.008442984669025915\n"
     ]
    }
   ],
   "source": [
    "lc = lgb.LGBMClassifier(n_estimators=1000, subsample=0.8)\n",
    "\n",
    "cv_result = rmsle_cv(lc, X_train_manually, y_train)\n",
    "print(np.mean(cv_result), np.std(cv_result))\n",
    "\n",
    "cv_result = rmsle_cv(lc, X_train_tsfresh, y_train)\n",
    "print(np.mean(cv_result), np.std(cv_result))"
   ]
  },
  {
   "cell_type": "code",
   "execution_count": 9,
   "metadata": {},
   "outputs": [
    {
     "name": "stdout",
     "output_type": "stream",
     "text": [
      "[0.8988532592994866, 0.899006025314213, 0.9163367360450878, 0.8865767547090165, 0.8938826099175392]\n",
      "0.8989310770570687 0.0098090258312469\n"
     ]
    }
   ],
   "source": [
    "from sklearn.model_selection import KFold\n",
    "from sklearn.metrics import f1_score\n",
    "\n",
    "kf = KFold(n_splits=5, random_state=42, shuffle=True)\n",
    "\n",
    "model_list = []\n",
    "score_list = []\n",
    "for train_index, test_index in kf.split(X_train_tsfresh):\n",
    "    model = lgb.LGBMClassifier(n_estimators=1000, subsample=0.8)\n",
    "    model.fit(X_train_tsfresh[train_index], y_train[train_index])\n",
    "    model_list.append(model)\n",
    "    score_list.append(f1_score(y_train[test_index], model.predict(X_train_tsfresh[test_index]), average='macro'))\n",
    "    \n",
    "print(score_list)\n",
    "print(np.mean(score_list), np.std(score_list))"
   ]
  },
  {
   "cell_type": "code",
   "execution_count": 10,
   "metadata": {},
   "outputs": [],
   "source": [
    "X_train = np.concatenate([X_train_tsfresh], axis=1)\n",
    "X_test = np.concatenate([X_test_tsfresh], axis=1)"
   ]
  },
  {
   "cell_type": "code",
   "execution_count": 11,
   "metadata": {},
   "outputs": [
    {
     "name": "stdout",
     "output_type": "stream",
     "text": [
      "[0.8988532592994866, 0.899006025314213, 0.9163367360450878, 0.8865767547090165, 0.8938826099175392]\n",
      "0.8989310770570687 0.0098090258312469\n"
     ]
    }
   ],
   "source": [
    "kf = KFold(n_splits=5, random_state=42, shuffle=True)\n",
    "\n",
    "model_list = []\n",
    "score_list = []\n",
    "for train_index, test_index in kf.split(X_train):\n",
    "    model = lgb.LGBMClassifier(n_estimators=1000, subsample=0.8)\n",
    "    model.fit(X_train[train_index], y_train[train_index])\n",
    "    model_list.append(model)\n",
    "    score_list.append(f1_score(y_train[test_index], model.predict(X_train[test_index]), average='macro'))\n",
    "    \n",
    "print(score_list)\n",
    "print(np.mean(score_list), np.std(score_list))\n",
    "\n",
    "result_list = []\n",
    "for model in model_list:\n",
    "    result = model.predict_proba(X_test)\n",
    "    result_list.append(result)\n",
    "\n",
    "result = np.argmax(np.sum(np.array(result_list), axis=0) / 5, axis=1)"
   ]
  },
  {
   "cell_type": "code",
   "execution_count": 12,
   "metadata": {},
   "outputs": [],
   "source": [
    "result = le.inverse_transform(result)\n",
    "pd.DataFrame(result, index=range(7000, 9000)).to_csv('result.csv', header=None)"
   ]
  },
  {
   "cell_type": "code",
   "execution_count": null,
   "metadata": {},
   "outputs": [],
   "source": []
  }
 ],
 "metadata": {
  "kernelspec": {
   "display_name": "Python 3",
   "language": "python",
   "name": "python3"
  },
  "language_info": {
   "codemirror_mode": {
    "name": "ipython",
    "version": 3
   },
   "file_extension": ".py",
   "mimetype": "text/x-python",
   "name": "python",
   "nbconvert_exporter": "python",
   "pygments_lexer": "ipython3",
   "version": "3.7.5"
  }
 },
 "nbformat": 4,
 "nbformat_minor": 4
}
