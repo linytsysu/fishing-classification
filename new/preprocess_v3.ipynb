{
 "cells": [
  {
   "cell_type": "code",
   "execution_count": 1,
   "metadata": {},
   "outputs": [],
   "source": [
    "import os\n",
    "import numpy as np\n",
    "import pandas as pd"
   ]
  },
  {
   "cell_type": "code",
   "execution_count": 2,
   "metadata": {},
   "outputs": [],
   "source": [
    "train_path = '../data/hy_round1_train_20200102'\n",
    "test_path = '../data/hy_round1_testA_20200102'\n",
    "\n",
    "train_df_list = []\n",
    "for file_name in os.listdir(train_path):\n",
    "    df = pd.read_csv(os.path.join(train_path, file_name))\n",
    "    train_df_list.append(df)\n",
    "\n",
    "test_df_list = []\n",
    "for file_name in os.listdir(test_path):\n",
    "    df = pd.read_csv(os.path.join(test_path, file_name))\n",
    "    test_df_list.append(df)\n",
    "\n",
    "train_df = pd.concat(train_df_list)\n",
    "test_df = pd.concat(test_df_list)\n",
    "\n",
    "train_df['time'] = pd.to_datetime(train_df['time'], format='%m%d %H:%M:%S')\n",
    "test_df['time'] = pd.to_datetime(test_df['time'], format='%m%d %H:%M:%S')\n",
    "\n",
    "all_df = pd.concat([train_df, test_df], sort=False)\n",
    "\n",
    "new_df = all_df.groupby('渔船ID').agg(x_min=('x', 'min'), x_max=('x', 'max'), x_mean=('x', 'mean'), x_std=('x', 'std'), x_skew=('x', 'skew'), x_sum=('x', 'sum'),\n",
    "            y_min=('y', 'min'), y_max=('y', 'max'), y_mean=('y', 'mean'), y_std=('y', 'std'), y_skew=('y', 'skew'), y_sum=('y', 'sum'),\n",
    "            v_min=('速度', 'min'), v_max=('速度', 'max'), v_mean=('速度', 'mean'), v_std=('速度', 'std'), v_skew=('速度', 'skew'), v_sum=('速度', 'sum'),\n",
    "            d_min=('方向', 'min'), d_max=('方向', 'max'), d_mean=('方向', 'mean'), d_std=('方向', 'std'), d_skew=('方向', 'skew'), d_sum=('方向', 'sum'))\n",
    "\n",
    "new_df['x_max-x_min'] = new_df['x_max'] - new_df['x_min']\n",
    "new_df['y_max-y_min'] = new_df['y_max'] - new_df['y_min']\n",
    "new_df['x_max-y_min'] = new_df['x_max'] - new_df['y_min']\n",
    "new_df['y_max-x_min'] = new_df['y_max'] - new_df['x_min']\n",
    "\n",
    "new_df['x_max/x_min'] = new_df['x_max'] / new_df['x_min']\n",
    "new_df['y_max/y_min'] = new_df['y_max'] / new_df['y_min']\n",
    "new_df['x_max/y_min'] = new_df['x_max'] / new_df['y_min']\n",
    "new_df['y_max/x_min'] = new_df['y_max'] / new_df['x_min']\n",
    "\n",
    "new_df['slope'] = new_df['y_max-y_min'] / np.where(new_df['x_max-x_min']==0, 0.001, new_df['x_max-x_min'])\n",
    "new_df['area'] = new_df['x_max-x_min'] * new_df['y_max-y_min']\n",
    "\n",
    "xy_cov = []\n",
    "vd_cov = []\n",
    "xy_corr = []\n",
    "vd_corr = []\n",
    "for ship_id, group in all_df.groupby('渔船ID'):\n",
    "    xy_cov.append(group['x'].cov(group['y']))\n",
    "    vd_cov.append(group['速度'].cov(group['方向']))\n",
    "    xy_corr.append(group['x'].corr(group['y']))\n",
    "    vd_corr.append(group['速度'].corr(group['方向']))\n",
    "    \n",
    "new_df['xy_cov'] = xy_cov\n",
    "new_df['vd_cov'] = vd_cov\n",
    "new_df['xy_corr'] = xy_corr\n",
    "new_df['vd_corr'] = vd_corr\n",
    "\n",
    "new_df['type'] = all_df.groupby('渔船ID').agg(type=('type', 'first'))['type'].values\n",
    "\n",
    "X_train = new_df.drop(columns=['type']).iloc[:7000]\n",
    "y_train = new_df.iloc[:7000]['type']\n",
    "\n",
    "X_test = new_df.drop(columns=['type']).iloc[7000:]"
   ]
  },
  {
   "cell_type": "code",
   "execution_count": 4,
   "metadata": {},
   "outputs": [],
   "source": [
    "X_train.to_csv('train_preprocess_v3.csv', index=False)\n",
    "X_test.to_csv('test_preprocess_v3.csv', index=False)"
   ]
  },
  {
   "cell_type": "code",
   "execution_count": null,
   "metadata": {},
   "outputs": [],
   "source": []
  }
 ],
 "metadata": {
  "kernelspec": {
   "display_name": "Python 3",
   "language": "python",
   "name": "python3"
  },
  "language_info": {
   "codemirror_mode": {
    "name": "ipython",
    "version": 3
   },
   "file_extension": ".py",
   "mimetype": "text/x-python",
   "name": "python",
   "nbconvert_exporter": "python",
   "pygments_lexer": "ipython3",
   "version": "3.7.5"
  }
 },
 "nbformat": 4,
 "nbformat_minor": 4
}
