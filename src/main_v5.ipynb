{
 "cells": [
  {
   "cell_type": "code",
   "execution_count": 1,
   "metadata": {},
   "outputs": [],
   "source": [
    "import os\n",
    "import numpy as np\n",
    "import pandas as pd\n",
    "import matplotlib.pyplot as plt\n",
    "\n",
    "train_path = '../data/hy_round1_train_20200102'\n",
    "test_path = '../data/hy_round1_testA_20200102'\n",
    "\n",
    "train_df_list = []\n",
    "for file_name in os.listdir(train_path):\n",
    "    df = pd.read_csv(os.path.join(train_path, file_name))\n",
    "    train_df_list.append(df)\n",
    "\n",
    "test_df_list = []\n",
    "for file_name in os.listdir(test_path):\n",
    "    df = pd.read_csv(os.path.join(test_path, file_name))\n",
    "    test_df_list.append(df)\n",
    "\n",
    "train_df = pd.concat(train_df_list)\n",
    "test_df = pd.concat(test_df_list)\n",
    "\n",
    "train_df['time'] = pd.to_datetime(train_df['time'], format='%m%d %H:%M:%S')\n",
    "test_df['time'] = pd.to_datetime(test_df['time'], format='%m%d %H:%M:%S')\n",
    "\n",
    "all_df = pd.concat([train_df, test_df], sort=False)\n",
    "\n",
    "start_x_list = []\n",
    "start_y_list = []\n",
    "for ship_id, group in all_df.groupby('渔船ID'):\n",
    "    group = group.sort_values(by=['time'])\n",
    "    start_x = group['x'].values[0]\n",
    "    start_y = group['y'].values[0]\n",
    "\n",
    "    start_x_list.append(start_x)\n",
    "    start_y_list.append(start_y)"
   ]
  },
  {
   "cell_type": "code",
   "execution_count": 25,
   "metadata": {},
   "outputs": [],
   "source": [
    "data_list = []\n",
    "for ship_id, group in all_df.groupby('渔船ID'):\n",
    "    data_list.append([])\n",
    "    group = group.sort_values(by=['time'])\n",
    "    hours = pd.DatetimeIndex(group['time'].values).hour\n",
    "    x = group['x'].values\n",
    "    y = group['y'].values\n",
    "    for i in range(24):\n",
    "        if len(hours[hours == i]) == 0:\n",
    "            data_list[-1].append(-1)\n",
    "            data_list[-1].append(-1)\n",
    "        else:\n",
    "            data_list[-1].append(np.mean(x[hours == i]))\n",
    "            data_list[-1].append(np.mean(y[hours == i]))"
   ]
  },
  {
   "cell_type": "code",
   "execution_count": 28,
   "metadata": {},
   "outputs": [],
   "source": [
    "from sklearn.ensemble import ExtraTreesClassifier, GradientBoostingClassifier\n",
    "from sklearn.feature_selection import RFE\n",
    "from sklearn.linear_model import SGDClassifier\n",
    "from sklearn.model_selection import train_test_split\n",
    "from sklearn.pipeline import make_pipeline, make_union\n",
    "from sklearn.preprocessing import StandardScaler\n",
    "from tpot.builtins import StackingEstimator\n",
    "from tpot.export_utils import set_param_recursive\n",
    "\n",
    "def get_model():\n",
    "    exported_pipeline = make_pipeline(\n",
    "        RFE(estimator=ExtraTreesClassifier(criterion=\"entropy\", max_features=0.7000000000000001, n_estimators=100), step=0.1),\n",
    "        StandardScaler(),\n",
    "        StackingEstimator(estimator=SGDClassifier(alpha=0.001, eta0=0.01, fit_intercept=False, l1_ratio=1.0, learning_rate=\"invscaling\", loss=\"perceptron\", penalty=\"elasticnet\", power_t=0.5)),\n",
    "        GradientBoostingClassifier(learning_rate=0.5, max_depth=7, max_features=0.15000000000000002, min_samples_leaf=2, min_samples_split=2, n_estimators=100, subsample=0.8500000000000001)\n",
    "    )\n",
    "    set_param_recursive(exported_pipeline.steps, 'random_state', 2020)\n",
    "    return exported_pipeline"
   ]
  },
  {
   "cell_type": "code",
   "execution_count": null,
   "metadata": {},
   "outputs": [],
   "source": []
  }
 ],
 "metadata": {
  "kernelspec": {
   "display_name": "Python 3",
   "language": "python",
   "name": "python3"
  },
  "language_info": {
   "codemirror_mode": {
    "name": "ipython",
    "version": 3
   },
   "file_extension": ".py",
   "mimetype": "text/x-python",
   "name": "python",
   "nbconvert_exporter": "python",
   "pygments_lexer": "ipython3",
   "version": "3.7.5"
  }
 },
 "nbformat": 4,
 "nbformat_minor": 4
}
