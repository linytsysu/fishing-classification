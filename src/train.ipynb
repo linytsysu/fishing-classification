{
 "cells": [
  {
   "cell_type": "code",
   "execution_count": 1,
   "metadata": {},
   "outputs": [],
   "source": [
    "#!/usr/bin/env python\n",
    "# -*- coding: utf-8 -*-\n",
    "\n",
    "import os\n",
    "import pandas as pd\n",
    "import numpy as np\n",
    "import matplotlib.pyplot as plt\n",
    "from sklearn.model_selection import KFold, cross_val_score\n",
    "from sklearn.metrics import f1_score\n",
    "import lightgbm as lgb\n",
    "from tpot import TPOTClassifier\n",
    "from sklearn import preprocessing\n",
    "\n",
    "train_df = pd.read_csv('./new_train.csv', index_col=0)\n",
    "test_df = pd.read_csv('./new_test.csv', index_col=0)\n",
    "X_train = train_df.drop(columns=['type']).values\n",
    "y_train = train_df['type'].values\n",
    "\n",
    "X_test = test_df.values\n",
    "\n",
    "le = preprocessing.LabelEncoder()\n",
    "y_train = le.fit_transform(y_train)"
   ]
  },
  {
   "cell_type": "code",
   "execution_count": 2,
   "metadata": {},
   "outputs": [],
   "source": [
    "import numpy as np\n",
    "import pandas as pd\n",
    "from sklearn.ensemble import ExtraTreesClassifier, GradientBoostingClassifier\n",
    "from sklearn.feature_selection import RFE, VarianceThreshold\n",
    "from sklearn.model_selection import train_test_split\n",
    "from sklearn.pipeline import make_pipeline\n",
    "from sklearn.preprocessing import StandardScaler\n",
    "from tpot.export_utils import set_param_recursive"
   ]
  },
  {
   "cell_type": "code",
   "execution_count": 3,
   "metadata": {},
   "outputs": [],
   "source": [
    "def get_model():\n",
    "    # Average CV score on the training set was: 0.9211528057469444\n",
    "    exported_pipeline = make_pipeline(\n",
    "        VarianceThreshold(threshold=0.1),\n",
    "        RFE(estimator=ExtraTreesClassifier(criterion=\"entropy\", max_features=0.9000000000000001, n_estimators=100), step=0.15000000000000002),\n",
    "        StandardScaler(),\n",
    "        GradientBoostingClassifier(learning_rate=0.5, max_depth=7, max_features=0.1, min_samples_leaf=5, min_samples_split=16, n_estimators=100, subsample=0.9500000000000001)\n",
    "    )\n",
    "    # Fix random state for all the steps in exported pipeline\n",
    "    set_param_recursive(exported_pipeline.steps, 'random_state', 42)\n",
    "    \n",
    "    return exported_pipeline"
   ]
  },
  {
   "cell_type": "code",
   "execution_count": 4,
   "metadata": {},
   "outputs": [],
   "source": [
    "from sklearn.metrics import f1_score\n",
    "\n",
    "def evaluate_macroF1_lgb(truth, predictions):  \n",
    "    pred_labels = predictions.reshape(len(np.unique(truth)),-1).argmax(axis=0)\n",
    "    f1 = f1_score(truth, pred_labels, average='macro')\n",
    "    return ('macroF1', f1, True) "
   ]
  },
  {
   "cell_type": "code",
   "execution_count": 5,
   "metadata": {},
   "outputs": [
    {
     "name": "stdout",
     "output_type": "stream",
     "text": [
      "[0.9052682474350086, 0.9152470872513735, 0.9046503852301164, 0.9040152678011903, 0.9198496219868453]\n",
      "0.9098061219409068 0.006498983219123005\n"
     ]
    }
   ],
   "source": [
    "from sklearn.model_selection import KFold\n",
    "from sklearn.metrics import f1_score\n",
    "\n",
    "kf = KFold(n_splits=5, random_state=2020, shuffle=True)\n",
    "\n",
    "model_list = []\n",
    "score_list = []\n",
    "for train_index, test_index in kf.split(X_train):\n",
    "    model = get_model()\n",
    "    eval_set = (X_train[test_index], y_train[test_index])\n",
    "    model.fit(X_train[train_index], y_train[train_index])\n",
    "    model_list.append(model)\n",
    "    score_list.append(f1_score(y_train[test_index], model.predict(X_train[test_index]), average='macro'))\n",
    "    \n",
    "print(score_list)\n",
    "print(np.mean(score_list), np.std(score_list))"
   ]
  },
  {
   "cell_type": "code",
   "execution_count": 6,
   "metadata": {},
   "outputs": [],
   "source": [
    "result_list = []\n",
    "for model in model_list:\n",
    "    result = model.predict_proba(X_test)\n",
    "    result_list.append(result)\n",
    "\n",
    "result = np.argmax(np.sum(np.array(result_list), axis=0) / 5, axis=1)\n",
    "\n",
    "result = le.inverse_transform(result)\n",
    "pd.DataFrame(result, index=range(7000, 9000)).to_csv('result.csv', header=None)"
   ]
  },
  {
   "cell_type": "code",
   "execution_count": null,
   "metadata": {},
   "outputs": [],
   "source": []
  }
 ],
 "metadata": {
  "kernelspec": {
   "display_name": "Python 3",
   "language": "python",
   "name": "python3"
  },
  "language_info": {
   "codemirror_mode": {
    "name": "ipython",
    "version": 3
   },
   "file_extension": ".py",
   "mimetype": "text/x-python",
   "name": "python",
   "nbconvert_exporter": "python",
   "pygments_lexer": "ipython3",
   "version": "3.7.5"
  }
 },
 "nbformat": 4,
 "nbformat_minor": 4
}
