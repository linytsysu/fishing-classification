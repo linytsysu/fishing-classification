{
 "cells": [
  {
   "cell_type": "code",
   "execution_count": 1,
   "metadata": {},
   "outputs": [],
   "source": [
    "import os\n",
    "import numpy as np\n",
    "import pandas as pd"
   ]
  },
  {
   "cell_type": "code",
   "execution_count": 2,
   "metadata": {},
   "outputs": [],
   "source": [
    "def get_feature_manually():\n",
    "    train_path = '../data/hy_round1_train_20200102'\n",
    "    test_path = '../data/hy_round1_testA_20200102'\n",
    "\n",
    "    train_df_list = []\n",
    "    for file_name in os.listdir(train_path):\n",
    "        df = pd.read_csv(os.path.join(train_path, file_name))\n",
    "        train_df_list.append(df)\n",
    "\n",
    "    test_df_list = []\n",
    "    for file_name in os.listdir(test_path):\n",
    "        df = pd.read_csv(os.path.join(test_path, file_name))\n",
    "        test_df_list.append(df)\n",
    "\n",
    "    train_df = pd.concat(train_df_list)\n",
    "    test_df = pd.concat(test_df_list)\n",
    "\n",
    "    train_df['time'] = pd.to_datetime(train_df['time'], format='%m%d %H:%M:%S')\n",
    "    test_df['time'] = pd.to_datetime(test_df['time'], format='%m%d %H:%M:%S')\n",
    "\n",
    "    all_df = pd.concat([train_df, test_df], sort=False)\n",
    "\n",
    "    new_df = all_df.groupby('渔船ID').agg(x_min=('x', 'min'), x_max=('x', 'max'), x_mean=('x', 'mean'), x_std=('x', 'std'), x_skew=('x', 'skew'), x_sum=('x', 'sum'),\n",
    "                y_min=('y', 'min'), y_max=('y', 'max'), y_mean=('y', 'mean'), y_std=('y', 'std'), y_skew=('y', 'skew'), y_sum=('y', 'sum'),\n",
    "                v_min=('速度', 'min'), v_max=('速度', 'max'), v_mean=('速度', 'mean'), v_std=('速度', 'std'), v_skew=('速度', 'skew'), v_sum=('速度', 'sum'),\n",
    "                d_min=('方向', 'min'), d_max=('方向', 'max'), d_mean=('方向', 'mean'), d_std=('方向', 'std'), d_skew=('方向', 'skew'), d_sum=('方向', 'sum'))\n",
    "    new_df['x_max-x_min'] = new_df['x_max'] - new_df['x_min']\n",
    "    new_df['y_max-y_min'] = new_df['y_max'] - new_df['y_min']\n",
    "    new_df['x_max-y_min'] = new_df['x_max'] - new_df['y_min']\n",
    "    new_df['y_max-x_min'] = new_df['y_max'] - new_df['x_min']\n",
    "\n",
    "    new_df['slope'] = new_df['y_max-y_min'] / np.where(new_df['x_max-x_min']==0, 0.001, new_df['x_max-x_min'])\n",
    "    new_df['area'] = new_df['x_max-x_min'] * new_df['y_max-y_min']\n",
    "\n",
    "    new_df['type'] = all_df.groupby('渔船ID').agg(type=('type', 'first'))['type'].values\n",
    "\n",
    "    X_train = new_df.drop(columns=['type']).iloc[:7000]\n",
    "    y_train = new_df.iloc[:7000]['type']\n",
    "\n",
    "    X_test = new_df.drop(columns=['type']).iloc[7000:]\n",
    "\n",
    "    return X_train.values, y_train, X_test.values\n"
   ]
  },
  {
   "cell_type": "code",
   "execution_count": 3,
   "metadata": {},
   "outputs": [],
   "source": [
    "def get_feature_tsfresh():\n",
    "    train_df = pd.read_csv('../history/train.csv')\n",
    "    X_train = train_df.drop(columns=['type'])\n",
    "    y_train = train_df['type']\n",
    "\n",
    "    test_df = pd.read_csv('../history/test.csv')\n",
    "    X_test = test_df[X_train.columns]\n",
    "    X_test = X_test.replace([np.inf, -np.inf], np.nan)\n",
    "    \n",
    "    for column in list(X_test.columns[X_test.isnull().sum() > 0]):\n",
    "        mean_val = X_test[column].mean()\n",
    "        X_test[column].fillna(mean_val, inplace=True)\n",
    "\n",
    "    return X_train.values, y_train.values, X_test.values"
   ]
  },
  {
   "cell_type": "code",
   "execution_count": 4,
   "metadata": {},
   "outputs": [],
   "source": [
    "def get_cross_features():\n",
    "    train_path = '../data/hy_round1_train_20200102'\n",
    "    test_path = '../data/hy_round1_testA_20200102'\n",
    "\n",
    "    train_df_list = []\n",
    "    for file_name in os.listdir(train_path):\n",
    "        df = pd.read_csv(os.path.join(train_path, file_name))\n",
    "        train_df_list.append(df)\n",
    "\n",
    "    test_df_list = []\n",
    "    for file_name in os.listdir(test_path):\n",
    "        df = pd.read_csv(os.path.join(test_path, file_name))\n",
    "        test_df_list.append(df)\n",
    "\n",
    "    train_df = pd.concat(train_df_list)\n",
    "    test_df = pd.concat(test_df_list)\n",
    "\n",
    "    train_df['time'] = pd.to_datetime(train_df['time'], format='%m%d %H:%M:%S')\n",
    "    test_df['time'] = pd.to_datetime(test_df['time'], format='%m%d %H:%M:%S')\n",
    "\n",
    "    all_df = pd.concat([train_df, test_df], sort=False)\n",
    "    \n",
    "    v = []\n",
    "    for value in all_df['速度'].values:\n",
    "        if value <= 3:\n",
    "            v.append(0)\n",
    "        elif value <= 8:\n",
    "            v.append(1)\n",
    "        elif value <= 14:\n",
    "            v.append(2)\n",
    "        elif value <= 19:\n",
    "            v.append(3)\n",
    "        elif value <= 23:\n",
    "            v.append(4)\n",
    "        else:\n",
    "            v.append(5)\n",
    "    all_df['v'] = v\n",
    "    \n",
    "    d = []\n",
    "    for value in all_df['方向'].values:\n",
    "        if value > 337.5 or value <= 22.5:\n",
    "            d.append(0)\n",
    "        elif value <= 67.5:\n",
    "            d.append(1)\n",
    "        elif value <= 112.5:\n",
    "            d.append(2)\n",
    "        elif value <= 157.5:\n",
    "            d.append(3)\n",
    "        elif value <= 202.5:\n",
    "            d.append(4)\n",
    "        elif value <= 247.5:\n",
    "            d.append(5)\n",
    "        elif value <= 292.5:\n",
    "            d.append(6)\n",
    "        elif value <= 337.5:\n",
    "            d.append(7)\n",
    "    all_df['d'] = d\n",
    "    \n",
    "    all_df['d_v'] = all_df['d'].values * all_df['v'].values\n",
    "    \n",
    "    cross_features = []\n",
    "    for ship_id, group in all_df.groupby('渔船ID'):\n",
    "        group = group.sort_values(by=['time'])\n",
    "        features = []\n",
    "        for i in range(8):\n",
    "            temp = group[group['d'] == i]\n",
    "            if temp.shape[0] == 0:\n",
    "                features.append(-1)\n",
    "                features.append(-1)\n",
    "                features.append(-1)\n",
    "                features.append(-1)\n",
    "                features.append(-1)\n",
    "            else:\n",
    "                x = temp['x'].values\n",
    "                y = temp['y'].values\n",
    "                v = temp['速度'].values\n",
    "                features.append(np.min(x))\n",
    "                features.append(np.max(x))\n",
    "                features.append(np.min(y))\n",
    "                features.append(np.max(y))\n",
    "                features.append(np.mean(v))\n",
    "        for i in range(6):\n",
    "            temp = group[group['v'] == i]\n",
    "            if temp.shape[0] == 0:\n",
    "                features.append(-1)\n",
    "                features.append(-1)\n",
    "                features.append(-1)\n",
    "                features.append(-1)\n",
    "                features.append(-1)\n",
    "            else:\n",
    "                x = temp['x'].values\n",
    "                y = temp['y'].values\n",
    "                d = temp['方向'].values\n",
    "                features.append(np.min(x))\n",
    "                features.append(np.max(x))\n",
    "                features.append(np.min(y))\n",
    "                features.append(np.max(y))\n",
    "                features.append(np.mean(d))\n",
    "        cross_features.append(np.array(features))\n",
    "    cross_features = np.array(cross_features)\n",
    "    \n",
    "    return cross_features[:7000], cross_features[7000:]"
   ]
  },
  {
   "cell_type": "code",
   "execution_count": 5,
   "metadata": {},
   "outputs": [],
   "source": [
    "def get_strict_features():\n",
    "    train_df = pd.read_csv('./train.csv')\n",
    "    X_train = train_df\n",
    "\n",
    "    test_df = pd.read_csv('./test.csv')\n",
    "    X_test = test_df[X_train.columns]\n",
    "    X_test = X_test.replace([np.inf, -np.inf], np.nan)\n",
    "    \n",
    "    for column in list(X_test.columns[X_test.isnull().sum() > 0]):\n",
    "        mean_val = X_test[column].mean()\n",
    "        X_test[column].fillna(mean_val, inplace=True)\n",
    "\n",
    "    return X_train.values, X_test.values"
   ]
  },
  {
   "cell_type": "code",
   "execution_count": 6,
   "metadata": {},
   "outputs": [],
   "source": [
    "X_train_manually, y_train, X_test_manually = get_feature_manually()"
   ]
  },
  {
   "cell_type": "code",
   "execution_count": 7,
   "metadata": {},
   "outputs": [],
   "source": [
    "X_train_tsfresh, y_train, X_test_tsfresh = get_feature_tsfresh()"
   ]
  },
  {
   "cell_type": "code",
   "execution_count": 8,
   "metadata": {},
   "outputs": [],
   "source": [
    "X_train_cross, X_test_cross = get_cross_features()"
   ]
  },
  {
   "cell_type": "code",
   "execution_count": 9,
   "metadata": {},
   "outputs": [],
   "source": [
    "X_train_strict, X_test_strict = get_strict_features()"
   ]
  },
  {
   "cell_type": "code",
   "execution_count": 10,
   "metadata": {},
   "outputs": [
    {
     "data": {
      "text/plain": [
       "((7000, 30), (7000, 1587), (7000, 70), (7000, 1276))"
      ]
     },
     "execution_count": 10,
     "metadata": {},
     "output_type": "execute_result"
    }
   ],
   "source": [
    "X_train_manually.shape, X_train_tsfresh.shape, X_train_cross.shape, X_train_strict.shape"
   ]
  },
  {
   "cell_type": "code",
   "execution_count": 11,
   "metadata": {},
   "outputs": [],
   "source": [
    "X_train = np.concatenate([X_train_manually, X_train_tsfresh, X_train_cross, X_train_strict], axis=1)\n",
    "X_test = np.concatenate([X_test_manually, X_test_tsfresh, X_test_cross, X_test_strict], axis=1)"
   ]
  },
  {
   "cell_type": "code",
   "execution_count": 12,
   "metadata": {},
   "outputs": [],
   "source": [
    "from feature_selector import FeatureSelector"
   ]
  },
  {
   "cell_type": "code",
   "execution_count": 15,
   "metadata": {},
   "outputs": [],
   "source": [
    "fs = FeatureSelector(data=pd.DataFrame(X_train), labels=y_train)"
   ]
  },
  {
   "cell_type": "code",
   "execution_count": 16,
   "metadata": {},
   "outputs": [
    {
     "name": "stdout",
     "output_type": "stream",
     "text": [
      "1047 features with a correlation magnitude greater than 0.98.\n",
      "\n"
     ]
    }
   ],
   "source": [
    "fs.identify_collinear(correlation_threshold=0.98, one_hot=False)"
   ]
  },
  {
   "cell_type": "code",
   "execution_count": 17,
   "metadata": {},
   "outputs": [
    {
     "name": "stdout",
     "output_type": "stream",
     "text": [
      "Removed 1047 features.\n"
     ]
    }
   ],
   "source": [
    "train_no_missing = fs.remove(methods=['collinear'])"
   ]
  },
  {
   "cell_type": "code",
   "execution_count": 18,
   "metadata": {},
   "outputs": [
    {
     "name": "stdout",
     "output_type": "stream",
     "text": [
      "(7000, 2963) (2000, 2963)\n",
      "(7000, 1916) (2000, 1916)\n"
     ]
    }
   ],
   "source": [
    "X_train = pd.DataFrame(X_train)\n",
    "X_test = pd.DataFrame(X_test)\n",
    "\n",
    "print(X_train.shape, X_test.shape)\n",
    "\n",
    "X_train = X_train.iloc[:, X_train.columns.isin(train_no_missing.columns)].values\n",
    "X_test = X_test.iloc[:, X_test.columns.isin(train_no_missing.columns)].values\n",
    "\n",
    "print(X_train.shape, X_test.shape)"
   ]
  },
  {
   "cell_type": "code",
   "execution_count": 13,
   "metadata": {},
   "outputs": [],
   "source": [
    "from sklearn.ensemble import ExtraTreesClassifier, GradientBoostingClassifier\n",
    "from sklearn.feature_selection import RFE\n",
    "from sklearn.linear_model import SGDClassifier\n",
    "from sklearn.model_selection import train_test_split\n",
    "from sklearn.pipeline import make_pipeline, make_union\n",
    "from sklearn.preprocessing import StandardScaler\n",
    "from tpot.builtins import StackingEstimator\n",
    "from tpot.export_utils import set_param_recursive\n",
    "import os\n",
    "import lightgbm as lgb\n",
    "from sklearn import preprocessing"
   ]
  },
  {
   "cell_type": "code",
   "execution_count": 14,
   "metadata": {},
   "outputs": [],
   "source": [
    "le = preprocessing.LabelEncoder()\n",
    "y_train = le.fit_transform(y_train)"
   ]
  },
  {
   "cell_type": "code",
   "execution_count": 30,
   "metadata": {},
   "outputs": [
    {
     "data": {
      "text/plain": [
       "RFE(estimator=ExtraTreesClassifier(bootstrap=False, ccp_alpha=0.0,\n",
       "                                   class_weight=None, criterion='entropy',\n",
       "                                   max_depth=None,\n",
       "                                   max_features=0.7000000000000001,\n",
       "                                   max_leaf_nodes=None, max_samples=None,\n",
       "                                   min_impurity_decrease=0.0,\n",
       "                                   min_impurity_split=None, min_samples_leaf=1,\n",
       "                                   min_samples_split=2,\n",
       "                                   min_weight_fraction_leaf=0.0,\n",
       "                                   n_estimators=100, n_jobs=None,\n",
       "                                   oob_score=False, random_state=42, verbose=0,\n",
       "                                   warm_start=False),\n",
       "    n_features_to_select=None, step=0.1, verbose=0)"
      ]
     },
     "execution_count": 30,
     "metadata": {},
     "output_type": "execute_result"
    }
   ],
   "source": [
    "selector = RFE(estimator=ExtraTreesClassifier(criterion=\"entropy\", max_features=0.7000000000000001, n_estimators=100, random_state=42), step=0.1)\n",
    "selector.fit(X_train, y_train)"
   ]
  },
  {
   "cell_type": "code",
   "execution_count": 31,
   "metadata": {},
   "outputs": [],
   "source": [
    "X_train = X_train[:, selector.support_]\n",
    "X_test = X_test[:, selector.support_]"
   ]
  },
  {
   "cell_type": "code",
   "execution_count": 32,
   "metadata": {},
   "outputs": [
    {
     "data": {
      "text/plain": [
       "((7000, 119), (2000, 119))"
      ]
     },
     "execution_count": 32,
     "metadata": {},
     "output_type": "execute_result"
    }
   ],
   "source": [
    "X_train.shape, X_test.shape"
   ]
  },
  {
   "cell_type": "code",
   "execution_count": 34,
   "metadata": {},
   "outputs": [
    {
     "name": "stdout",
     "output_type": "stream",
     "text": [
      "[0.8882297551789078, 0.8972624798711756, 0.8755395133549012, 0.8843454639155391, 0.9030915599258206]\n",
      "0.8896937544492689 0.009673436230771593\n"
     ]
    }
   ],
   "source": [
    "def get_model():\n",
    "    exported_pipeline = make_pipeline(\n",
    "        RFE(estimator=ExtraTreesClassifier(criterion=\"entropy\", max_features=0.7000000000000001, n_estimators=100), step=0.1),\n",
    "        StandardScaler(),\n",
    "        StackingEstimator(estimator=SGDClassifier(alpha=0.001, eta0=0.01, fit_intercept=False, l1_ratio=1.0, learning_rate=\"invscaling\", loss=\"perceptron\", penalty=\"elasticnet\", power_t=0.5)),\n",
    "        GradientBoostingClassifier(learning_rate=0.5, max_depth=7, max_features=0.15000000000000002, min_samples_leaf=2, min_samples_split=2, n_estimators=100, subsample=0.8500000000000001)\n",
    "    )\n",
    "    set_param_recursive(exported_pipeline.steps, 'random_state', 2020)\n",
    "    return exported_pipeline\n",
    "\n",
    "from sklearn.metrics import f1_score\n",
    "\n",
    "def evaluate_macroF1_lgb(truth, predictions):  \n",
    "    pred_labels = predictions.reshape(len(np.unique(truth)),-1).argmax(axis=0)\n",
    "    f1 = f1_score(truth, pred_labels, average='macro')\n",
    "    return ('macroF1', f1, True)\n",
    "\n",
    "from sklearn.model_selection import KFold\n",
    "from sklearn.metrics import f1_score\n",
    "\n",
    "kf = KFold(n_splits=5, random_state=2020, shuffle=True)\n",
    "\n",
    "model_list = []\n",
    "score_list = []\n",
    "for train_index, test_index in kf.split(X_train):\n",
    "    model = get_model()\n",
    "    eval_set = (X_train[test_index], y_train[test_index])\n",
    "    model.fit(X_train[train_index], y_train[train_index])\n",
    "    model_list.append(model)\n",
    "    score_list.append(f1_score(y_train[test_index], model.predict(X_train[test_index]), average='macro'))\n",
    "    \n",
    "print(score_list)\n",
    "print(np.mean(score_list), np.std(score_list))"
   ]
  },
  {
   "cell_type": "code",
   "execution_count": 50,
   "metadata": {},
   "outputs": [],
   "source": [
    "result_list = []\n",
    "for model in model_list:\n",
    "    result = model.predict_proba(X_test)\n",
    "    result_list.append(result)\n",
    "\n",
    "result = np.argmax(np.sum(np.array(result_list), axis=0) / 5, axis=1)\n",
    "\n",
    "result = le.inverse_transform(result)\n",
    "pd.DataFrame(result, index=range(7000, 9000)).to_csv('result.csv', header=None)"
   ]
  },
  {
   "cell_type": "code",
   "execution_count": 45,
   "metadata": {},
   "outputs": [
    {
     "data": {
      "text/plain": [
       "(7000, 92)"
      ]
     },
     "execution_count": 45,
     "metadata": {},
     "output_type": "execute_result"
    }
   ],
   "source": [
    "X_train.shape"
   ]
  },
  {
   "cell_type": "code",
   "execution_count": 43,
   "metadata": {},
   "outputs": [],
   "source": [
    "new_train_df = pd.DataFrame(X_train)\n",
    "new_test_df = pd.DataFrame(X_test)\n",
    "new_train_df['type'] = le.inverse_transform(y_train)"
   ]
  },
  {
   "cell_type": "code",
   "execution_count": 44,
   "metadata": {},
   "outputs": [],
   "source": [
    "new_train_df.to_csv('new_train.csv')\n",
    "new_test_df.to_csv('new_test.csv')"
   ]
  },
  {
   "cell_type": "code",
   "execution_count": 35,
   "metadata": {},
   "outputs": [
    {
     "data": {
      "text/plain": [
       "array([[6.11835176e+06, 6.15203843e+06, 5.12487338e+06, ...,\n",
       "        1.00000000e+00, 8.47637237e-02, 1.91638605e-01],\n",
       "       [6.04947187e+06, 6.10244988e+06, 5.04285734e+06, ...,\n",
       "        6.00000000e+00, 5.90770458e-01, 8.60079680e-01],\n",
       "       [6.18248219e+06, 6.18319102e+06, 5.19357554e+06, ...,\n",
       "        1.00000000e+00, 2.33085218e-02, 6.33547753e-02],\n",
       "       ...,\n",
       "       [5.22870046e+06, 5.28746208e+06, 4.57772301e+06, ...,\n",
       "        7.00000000e+00, 4.69325158e-01, 7.49281328e-01],\n",
       "       [6.36501974e+06, 6.38762489e+06, 5.34350537e+06, ...,\n",
       "        1.20000000e+01, 6.74404855e-01, 9.38994248e-01],\n",
       "       [6.20637253e+06, 6.24031719e+06, 5.13202799e+06, ...,\n",
       "        3.00000000e+00, 2.57359193e-01, 4.89900342e-01]])"
      ]
     },
     "execution_count": 35,
     "metadata": {},
     "output_type": "execute_result"
    }
   ],
   "source": [
    "X_train"
   ]
  },
  {
   "cell_type": "code",
   "execution_count": null,
   "metadata": {},
   "outputs": [],
   "source": []
  }
 ],
 "metadata": {
  "kernelspec": {
   "display_name": "Python 3",
   "language": "python",
   "name": "python3"
  },
  "language_info": {
   "codemirror_mode": {
    "name": "ipython",
    "version": 3
   },
   "file_extension": ".py",
   "mimetype": "text/x-python",
   "name": "python",
   "nbconvert_exporter": "python",
   "pygments_lexer": "ipython3",
   "version": "3.7.5"
  }
 },
 "nbformat": 4,
 "nbformat_minor": 4
}
