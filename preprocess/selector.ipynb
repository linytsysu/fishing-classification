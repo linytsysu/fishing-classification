{
 "cells": [
  {
   "cell_type": "code",
   "execution_count": 1,
   "metadata": {},
   "outputs": [],
   "source": [
    "import os\n",
    "import numpy as np\n",
    "import pandas as pd"
   ]
  },
  {
   "cell_type": "code",
   "execution_count": 2,
   "metadata": {},
   "outputs": [],
   "source": [
    "train_df = pd.read_csv('./train.csv', index_col='id')"
   ]
  },
  {
   "cell_type": "code",
   "execution_count": 3,
   "metadata": {},
   "outputs": [
    {
     "data": {
      "text/plain": [
       "(14557, 501)"
      ]
     },
     "execution_count": 3,
     "metadata": {},
     "output_type": "execute_result"
    }
   ],
   "source": [
    "train_df.shape"
   ]
  },
  {
   "cell_type": "code",
   "execution_count": 4,
   "metadata": {},
   "outputs": [],
   "source": [
    "import lightgbm as lgb"
   ]
  },
  {
   "cell_type": "code",
   "execution_count": 5,
   "metadata": {},
   "outputs": [
    {
     "data": {
      "text/plain": [
       "LGBMClassifier(boosting_type='gbdt', class_weight=None, colsample_bytree=1.0,\n",
       "               importance_type='split', learning_rate=0.1, max_depth=-1,\n",
       "               min_child_samples=20, min_child_weight=0.001, min_split_gain=0.0,\n",
       "               n_estimators=600, n_jobs=-1, num_leaves=31, objective=None,\n",
       "               random_state=None, reg_alpha=0.0, reg_lambda=0.0, silent=True,\n",
       "               subsample=0.8, subsample_for_bin=200000, subsample_freq=0)"
      ]
     },
     "execution_count": 5,
     "metadata": {},
     "output_type": "execute_result"
    }
   ],
   "source": [
    "X_train = train_df.drop(columns=['type'])\n",
    "y_train = train_df['type']\n",
    "\n",
    "base_model = lgb.LGBMClassifier(n_estimators=600, subsample=0.8)\n",
    "base_model.fit(X_train.values, y_train)"
   ]
  },
  {
   "cell_type": "code",
   "execution_count": 6,
   "metadata": {},
   "outputs": [],
   "source": [
    "selected_columns = X_train.columns[np.argsort(base_model.feature_importances_)[::-1][:50]]"
   ]
  },
  {
   "cell_type": "code",
   "execution_count": 7,
   "metadata": {},
   "outputs": [],
   "source": [
    "X_train_filtered = X_train[selected_columns]"
   ]
  },
  {
   "cell_type": "code",
   "execution_count": 8,
   "metadata": {},
   "outputs": [],
   "source": [
    "import tsfresh\n",
    "kind_to_fc_parameters = tsfresh.feature_extraction.settings.from_columns(X_train_filtered)"
   ]
  },
  {
   "cell_type": "code",
   "execution_count": 9,
   "metadata": {},
   "outputs": [
    {
     "data": {
      "text/plain": [
       "{'lon': {'quantile': [{'q': 0.1},\n",
       "   {'q': 0.2},\n",
       "   {'q': 0.3},\n",
       "   {'q': 0.9},\n",
       "   {'q': 0.7},\n",
       "   {'q': 0.8}],\n",
       "  'minimum': None,\n",
       "  'maximum': None,\n",
       "  'agg_linear_trend': [{'f_agg': 'min', 'chunk_len': 50, 'attr': 'intercept'}],\n",
       "  'median': None,\n",
       "  'abs_energy': None,\n",
       "  'fft_coefficient': [{'coeff': 58, 'attr': 'angle'}],\n",
       "  'approximate_entropy': [{'m': 2, 'r': 0.1}],\n",
       "  'cwt_coefficients': [{'widths': (2, 5, 10, 20), 'coeff': 14, 'w': 20}],\n",
       "  'mean': None,\n",
       "  'sum_of_reoccurring_data_points': None,\n",
       "  'sample_entropy': None},\n",
       " 'lat': {'maximum': None,\n",
       "  'quantile': [{'q': 0.9},\n",
       "   {'q': 0.1},\n",
       "   {'q': 0.7},\n",
       "   {'q': 0.6},\n",
       "   {'q': 0.2},\n",
       "   {'q': 0.8},\n",
       "   {'q': 0.4}],\n",
       "  'minimum': None,\n",
       "  'number_cwt_peaks': [{'n': 1}],\n",
       "  'sum_values': None,\n",
       "  'abs_energy': None,\n",
       "  'autocorrelation': [{'lag': 5}],\n",
       "  'cwt_coefficients': [{'widths': (2, 5, 10, 20), 'coeff': 0, 'w': 2}],\n",
       "  'spkt_welch_density': [{'coeff': 8}],\n",
       "  'agg_linear_trend': [{'f_agg': 'max',\n",
       "    'chunk_len': 50,\n",
       "    'attr': 'intercept'}]},\n",
       " '速度': {'number_crossing_m': [{'m': 1}],\n",
       "  'ratio_beyond_r_sigma': [{'r': 0.5}],\n",
       "  'approximate_entropy': [{'m': 2, 'r': 0.9}],\n",
       "  'partial_autocorrelation': [{'lag': 7}, {'lag': 6}, {'lag': 5}],\n",
       "  'agg_autocorrelation': [{'f_agg': 'median', 'maxlag': 40}],\n",
       "  'ar_coefficient': [{'k': 10, 'coeff': 1}],\n",
       "  'fft_coefficient': [{'coeff': 5, 'attr': 'angle'}],\n",
       "  'quantile': [{'q': 0.7}],\n",
       "  'change_quantiles': [{'f_agg': 'var', 'isabs': True, 'qh': 0.6, 'ql': 0.2}],\n",
       "  'fft_aggregated': [{'aggtype': 'variance'}]},\n",
       " '方向': {'quantile': [{'q': 0.9}],\n",
       "  'approximate_entropy': [{'m': 2, 'r': 0.1}],\n",
       "  'ratio_beyond_r_sigma': [{'r': 0.5}],\n",
       "  'fft_coefficient': [{'coeff': 5, 'attr': 'angle'}],\n",
       "  'agg_autocorrelation': [{'f_agg': 'var', 'maxlag': 40}]}}"
      ]
     },
     "execution_count": 9,
     "metadata": {},
     "output_type": "execute_result"
    }
   ],
   "source": [
    "kind_to_fc_parameters"
   ]
  },
  {
   "cell_type": "code",
   "execution_count": null,
   "metadata": {},
   "outputs": [],
   "source": []
  }
 ],
 "metadata": {
  "kernelspec": {
   "display_name": "Python 3",
   "language": "python",
   "name": "python3"
  },
  "language_info": {
   "codemirror_mode": {
    "name": "ipython",
    "version": 3
   },
   "file_extension": ".py",
   "mimetype": "text/x-python",
   "name": "python",
   "nbconvert_exporter": "python",
   "pygments_lexer": "ipython3",
   "version": "3.7.5"
  }
 },
 "nbformat": 4,
 "nbformat_minor": 4
}
